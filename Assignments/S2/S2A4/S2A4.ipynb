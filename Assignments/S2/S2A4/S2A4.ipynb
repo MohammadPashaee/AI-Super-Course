{
  "nbformat": 4,
  "nbformat_minor": 0,
  "metadata": {
    "colab": {
      "provenance": [],
      "mount_file_id": "1dTBi92qKgAGgNz44Ca9xJu8ihqmpuYtF",
      "authorship_tag": "ABX9TyMa0BQlAOCDkTv2M2imACJ0",
      "include_colab_link": true
    },
    "kernelspec": {
      "name": "python3",
      "display_name": "Python 3"
    },
    "language_info": {
      "name": "python"
    }
  },
  "cells": [
    {
      "cell_type": "markdown",
      "metadata": {
        "id": "view-in-github",
        "colab_type": "text"
      },
      "source": [
        "<a href=\"https://colab.research.google.com/github/MohammadPashaee/AI-Super-Course/blob/main/Assignments/S2/S2A4/S2A4.ipynb\" target=\"_parent\"><img src=\"https://colab.research.google.com/assets/colab-badge.svg\" alt=\"Open In Colab\"/></a>"
      ]
    },
    {
      "cell_type": "code",
      "execution_count": 1,
      "metadata": {
        "id": "JF3NcDWzREhh"
      },
      "outputs": [],
      "source": [
        " import pandas as pd\n",
        " import numpy as np\n",
        " import matplotlib.pyplot as plt"
      ]
    },
    {
      "cell_type": "code",
      "source": [
        "df = pd.read_csv(\"/content/project_data.csv\")"
      ],
      "metadata": {
        "id": "j-ef6XEWRe7A"
      },
      "execution_count": 3,
      "outputs": []
    },
    {
      "cell_type": "code",
      "source": [
        "df_x = df[[\"<CLOSE>\"]]"
      ],
      "metadata": {
        "id": "0p_Bb95VTLG3"
      },
      "execution_count": 15,
      "outputs": []
    },
    {
      "cell_type": "code",
      "source": [
        "df.head()"
      ],
      "metadata": {
        "colab": {
          "base_uri": "https://localhost:8080/",
          "height": 206
        },
        "id": "EVmYI3itTp-e",
        "outputId": "ed515a7a-b8fe-4eab-9fcb-500709d0c082"
      },
      "execution_count": 24,
      "outputs": [
        {
          "output_type": "execute_result",
          "data": {
            "text/plain": [
              "          <TICKER>  <DTYYYYMMDD>  <FIRST>  <HIGH>   <LOW>  <CLOSE>  \\\n",
              "0  S*I..N..C..Ind.      20220703   6600.0  6640.0  6530.0   6570.0   \n",
              "1  S*I..N..C..Ind.      20220702   6650.0  6750.0  6580.0   6680.0   \n",
              "2  S*I..N..C..Ind.      20220629   6770.0  6770.0  6680.0   6740.0   \n",
              "3  S*I..N..C..Ind.      20220628   6750.0  6800.0  6700.0   6740.0   \n",
              "4  S*I..N..C..Ind.      20220627   6640.0  6820.0  6640.0   6720.0   \n",
              "\n",
              "        <VALUE>      <VOL>  <OPENINT> <PER>  <OPEN>  <LAST>  \n",
              "0  568548012690   86570273       6032     D  6680.0  6580.0  \n",
              "1  786484354990  117817935       4930     D  6740.0  6640.0  \n",
              "2  364468985740   54052654       3437     D  6740.0  6750.0  \n",
              "3  611112726900   90692641       4911     D  6720.0  6740.0  \n",
              "4  781397951230  116348740       5920     D  6710.0  6740.0  "
            ],
            "text/html": [
              "\n",
              "\n",
              "  <div id=\"df-23d54b03-910d-4b02-8b7c-e9b83bfa1ff6\">\n",
              "    <div class=\"colab-df-container\">\n",
              "      <div>\n",
              "<style scoped>\n",
              "    .dataframe tbody tr th:only-of-type {\n",
              "        vertical-align: middle;\n",
              "    }\n",
              "\n",
              "    .dataframe tbody tr th {\n",
              "        vertical-align: top;\n",
              "    }\n",
              "\n",
              "    .dataframe thead th {\n",
              "        text-align: right;\n",
              "    }\n",
              "</style>\n",
              "<table border=\"1\" class=\"dataframe\">\n",
              "  <thead>\n",
              "    <tr style=\"text-align: right;\">\n",
              "      <th></th>\n",
              "      <th>&lt;TICKER&gt;</th>\n",
              "      <th>&lt;DTYYYYMMDD&gt;</th>\n",
              "      <th>&lt;FIRST&gt;</th>\n",
              "      <th>&lt;HIGH&gt;</th>\n",
              "      <th>&lt;LOW&gt;</th>\n",
              "      <th>&lt;CLOSE&gt;</th>\n",
              "      <th>&lt;VALUE&gt;</th>\n",
              "      <th>&lt;VOL&gt;</th>\n",
              "      <th>&lt;OPENINT&gt;</th>\n",
              "      <th>&lt;PER&gt;</th>\n",
              "      <th>&lt;OPEN&gt;</th>\n",
              "      <th>&lt;LAST&gt;</th>\n",
              "    </tr>\n",
              "  </thead>\n",
              "  <tbody>\n",
              "    <tr>\n",
              "      <th>0</th>\n",
              "      <td>S*I..N..C..Ind.</td>\n",
              "      <td>20220703</td>\n",
              "      <td>6600.0</td>\n",
              "      <td>6640.0</td>\n",
              "      <td>6530.0</td>\n",
              "      <td>6570.0</td>\n",
              "      <td>568548012690</td>\n",
              "      <td>86570273</td>\n",
              "      <td>6032</td>\n",
              "      <td>D</td>\n",
              "      <td>6680.0</td>\n",
              "      <td>6580.0</td>\n",
              "    </tr>\n",
              "    <tr>\n",
              "      <th>1</th>\n",
              "      <td>S*I..N..C..Ind.</td>\n",
              "      <td>20220702</td>\n",
              "      <td>6650.0</td>\n",
              "      <td>6750.0</td>\n",
              "      <td>6580.0</td>\n",
              "      <td>6680.0</td>\n",
              "      <td>786484354990</td>\n",
              "      <td>117817935</td>\n",
              "      <td>4930</td>\n",
              "      <td>D</td>\n",
              "      <td>6740.0</td>\n",
              "      <td>6640.0</td>\n",
              "    </tr>\n",
              "    <tr>\n",
              "      <th>2</th>\n",
              "      <td>S*I..N..C..Ind.</td>\n",
              "      <td>20220629</td>\n",
              "      <td>6770.0</td>\n",
              "      <td>6770.0</td>\n",
              "      <td>6680.0</td>\n",
              "      <td>6740.0</td>\n",
              "      <td>364468985740</td>\n",
              "      <td>54052654</td>\n",
              "      <td>3437</td>\n",
              "      <td>D</td>\n",
              "      <td>6740.0</td>\n",
              "      <td>6750.0</td>\n",
              "    </tr>\n",
              "    <tr>\n",
              "      <th>3</th>\n",
              "      <td>S*I..N..C..Ind.</td>\n",
              "      <td>20220628</td>\n",
              "      <td>6750.0</td>\n",
              "      <td>6800.0</td>\n",
              "      <td>6700.0</td>\n",
              "      <td>6740.0</td>\n",
              "      <td>611112726900</td>\n",
              "      <td>90692641</td>\n",
              "      <td>4911</td>\n",
              "      <td>D</td>\n",
              "      <td>6720.0</td>\n",
              "      <td>6740.0</td>\n",
              "    </tr>\n",
              "    <tr>\n",
              "      <th>4</th>\n",
              "      <td>S*I..N..C..Ind.</td>\n",
              "      <td>20220627</td>\n",
              "      <td>6640.0</td>\n",
              "      <td>6820.0</td>\n",
              "      <td>6640.0</td>\n",
              "      <td>6720.0</td>\n",
              "      <td>781397951230</td>\n",
              "      <td>116348740</td>\n",
              "      <td>5920</td>\n",
              "      <td>D</td>\n",
              "      <td>6710.0</td>\n",
              "      <td>6740.0</td>\n",
              "    </tr>\n",
              "  </tbody>\n",
              "</table>\n",
              "</div>\n",
              "      <button class=\"colab-df-convert\" onclick=\"convertToInteractive('df-23d54b03-910d-4b02-8b7c-e9b83bfa1ff6')\"\n",
              "              title=\"Convert this dataframe to an interactive table.\"\n",
              "              style=\"display:none;\">\n",
              "\n",
              "  <svg xmlns=\"http://www.w3.org/2000/svg\" height=\"24px\"viewBox=\"0 0 24 24\"\n",
              "       width=\"24px\">\n",
              "    <path d=\"M0 0h24v24H0V0z\" fill=\"none\"/>\n",
              "    <path d=\"M18.56 5.44l.94 2.06.94-2.06 2.06-.94-2.06-.94-.94-2.06-.94 2.06-2.06.94zm-11 1L8.5 8.5l.94-2.06 2.06-.94-2.06-.94L8.5 2.5l-.94 2.06-2.06.94zm10 10l.94 2.06.94-2.06 2.06-.94-2.06-.94-.94-2.06-.94 2.06-2.06.94z\"/><path d=\"M17.41 7.96l-1.37-1.37c-.4-.4-.92-.59-1.43-.59-.52 0-1.04.2-1.43.59L10.3 9.45l-7.72 7.72c-.78.78-.78 2.05 0 2.83L4 21.41c.39.39.9.59 1.41.59.51 0 1.02-.2 1.41-.59l7.78-7.78 2.81-2.81c.8-.78.8-2.07 0-2.86zM5.41 20L4 18.59l7.72-7.72 1.47 1.35L5.41 20z\"/>\n",
              "  </svg>\n",
              "      </button>\n",
              "\n",
              "\n",
              "\n",
              "    <div id=\"df-7a655722-1a23-43ce-9e4e-9f0e28e873e6\">\n",
              "      <button class=\"colab-df-quickchart\" onclick=\"quickchart('df-7a655722-1a23-43ce-9e4e-9f0e28e873e6')\"\n",
              "              title=\"Suggest charts.\"\n",
              "              style=\"display:none;\">\n",
              "\n",
              "<svg xmlns=\"http://www.w3.org/2000/svg\" height=\"24px\"viewBox=\"0 0 24 24\"\n",
              "     width=\"24px\">\n",
              "    <g>\n",
              "        <path d=\"M19 3H5c-1.1 0-2 .9-2 2v14c0 1.1.9 2 2 2h14c1.1 0 2-.9 2-2V5c0-1.1-.9-2-2-2zM9 17H7v-7h2v7zm4 0h-2V7h2v10zm4 0h-2v-4h2v4z\"/>\n",
              "    </g>\n",
              "</svg>\n",
              "      </button>\n",
              "    </div>\n",
              "\n",
              "<style>\n",
              "  .colab-df-quickchart {\n",
              "    background-color: #E8F0FE;\n",
              "    border: none;\n",
              "    border-radius: 50%;\n",
              "    cursor: pointer;\n",
              "    display: none;\n",
              "    fill: #1967D2;\n",
              "    height: 32px;\n",
              "    padding: 0 0 0 0;\n",
              "    width: 32px;\n",
              "  }\n",
              "\n",
              "  .colab-df-quickchart:hover {\n",
              "    background-color: #E2EBFA;\n",
              "    box-shadow: 0px 1px 2px rgba(60, 64, 67, 0.3), 0px 1px 3px 1px rgba(60, 64, 67, 0.15);\n",
              "    fill: #174EA6;\n",
              "  }\n",
              "\n",
              "  [theme=dark] .colab-df-quickchart {\n",
              "    background-color: #3B4455;\n",
              "    fill: #D2E3FC;\n",
              "  }\n",
              "\n",
              "  [theme=dark] .colab-df-quickchart:hover {\n",
              "    background-color: #434B5C;\n",
              "    box-shadow: 0px 1px 3px 1px rgba(0, 0, 0, 0.15);\n",
              "    filter: drop-shadow(0px 1px 2px rgba(0, 0, 0, 0.3));\n",
              "    fill: #FFFFFF;\n",
              "  }\n",
              "</style>\n",
              "\n",
              "    <script>\n",
              "      async function quickchart(key) {\n",
              "        const containerElement = document.querySelector('#' + key);\n",
              "        const charts = await google.colab.kernel.invokeFunction(\n",
              "            'suggestCharts', [key], {});\n",
              "      }\n",
              "    </script>\n",
              "\n",
              "      <script>\n",
              "\n",
              "function displayQuickchartButton(domScope) {\n",
              "  let quickchartButtonEl =\n",
              "    domScope.querySelector('#df-7a655722-1a23-43ce-9e4e-9f0e28e873e6 button.colab-df-quickchart');\n",
              "  quickchartButtonEl.style.display =\n",
              "    google.colab.kernel.accessAllowed ? 'block' : 'none';\n",
              "}\n",
              "\n",
              "        displayQuickchartButton(document);\n",
              "      </script>\n",
              "      <style>\n",
              "    .colab-df-container {\n",
              "      display:flex;\n",
              "      flex-wrap:wrap;\n",
              "      gap: 12px;\n",
              "    }\n",
              "\n",
              "    .colab-df-convert {\n",
              "      background-color: #E8F0FE;\n",
              "      border: none;\n",
              "      border-radius: 50%;\n",
              "      cursor: pointer;\n",
              "      display: none;\n",
              "      fill: #1967D2;\n",
              "      height: 32px;\n",
              "      padding: 0 0 0 0;\n",
              "      width: 32px;\n",
              "    }\n",
              "\n",
              "    .colab-df-convert:hover {\n",
              "      background-color: #E2EBFA;\n",
              "      box-shadow: 0px 1px 2px rgba(60, 64, 67, 0.3), 0px 1px 3px 1px rgba(60, 64, 67, 0.15);\n",
              "      fill: #174EA6;\n",
              "    }\n",
              "\n",
              "    [theme=dark] .colab-df-convert {\n",
              "      background-color: #3B4455;\n",
              "      fill: #D2E3FC;\n",
              "    }\n",
              "\n",
              "    [theme=dark] .colab-df-convert:hover {\n",
              "      background-color: #434B5C;\n",
              "      box-shadow: 0px 1px 3px 1px rgba(0, 0, 0, 0.15);\n",
              "      filter: drop-shadow(0px 1px 2px rgba(0, 0, 0, 0.3));\n",
              "      fill: #FFFFFF;\n",
              "    }\n",
              "  </style>\n",
              "\n",
              "      <script>\n",
              "        const buttonEl =\n",
              "          document.querySelector('#df-23d54b03-910d-4b02-8b7c-e9b83bfa1ff6 button.colab-df-convert');\n",
              "        buttonEl.style.display =\n",
              "          google.colab.kernel.accessAllowed ? 'block' : 'none';\n",
              "\n",
              "        async function convertToInteractive(key) {\n",
              "          const element = document.querySelector('#df-23d54b03-910d-4b02-8b7c-e9b83bfa1ff6');\n",
              "          const dataTable =\n",
              "            await google.colab.kernel.invokeFunction('convertToInteractive',\n",
              "                                                     [key], {});\n",
              "          if (!dataTable) return;\n",
              "\n",
              "          const docLinkHtml = 'Like what you see? Visit the ' +\n",
              "            '<a target=\"_blank\" href=https://colab.research.google.com/notebooks/data_table.ipynb>data table notebook</a>'\n",
              "            + ' to learn more about interactive tables.';\n",
              "          element.innerHTML = '';\n",
              "          dataTable['output_type'] = 'display_data';\n",
              "          await google.colab.output.renderOutput(dataTable, element);\n",
              "          const docLink = document.createElement('div');\n",
              "          docLink.innerHTML = docLinkHtml;\n",
              "          element.appendChild(docLink);\n",
              "        }\n",
              "      </script>\n",
              "    </div>\n",
              "  </div>\n"
            ]
          },
          "metadata": {},
          "execution_count": 24
        }
      ]
    },
    {
      "cell_type": "code",
      "source": [
        "h, w = df_x.shape\n",
        "\n",
        "kernel_size = 21\n",
        "\n",
        "kernel = np.ones((kernel_size, 1))"
      ],
      "metadata": {
        "id": "NNfm_iDLVg9K"
      },
      "execution_count": 159,
      "outputs": []
    },
    {
      "cell_type": "code",
      "source": [
        "x = np.zeros((h-kernel_size, 1))\n",
        "for i in range(h-kernel_size):\n",
        "  ch_x = df_x[i:i+kernel_size]\n",
        "  f_ch = np.float32(ch_x)\n",
        "  x[i] = (f_ch * kernel).mean()"
      ],
      "metadata": {
        "id": "TfuVybvmV4mr"
      },
      "execution_count": 160,
      "outputs": []
    },
    {
      "cell_type": "code",
      "source": [
        "plt.plot(df_x, 'b', label='Raw Data')\n",
        "plt.plot(x, 'r', label='Moving Average')\n",
        "plt.legend()"
      ],
      "metadata": {
        "colab": {
          "base_uri": "https://localhost:8080/",
          "height": 448
        },
        "id": "Zrk0Y2vqhEIM",
        "outputId": "4f3078ea-ba41-4255-a817-4b228af069ed"
      },
      "execution_count": 170,
      "outputs": [
        {
          "output_type": "execute_result",
          "data": {
            "text/plain": [
              "<matplotlib.legend.Legend at 0x7fdf04dbcdf0>"
            ]
          },
          "metadata": {},
          "execution_count": 170
        },
        {
          "output_type": "display_data",
          "data": {
            "text/plain": [
              "<Figure size 640x480 with 1 Axes>"
            ],
            "image/png": "[encoded data removed]"
          },
          "metadata": {}
        }
      ]
    }
  ]
}