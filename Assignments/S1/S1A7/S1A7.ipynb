{
  "nbformat": 4,
  "nbformat_minor": 0,
  "metadata": {
    "colab": {
      "provenance": [],
      "mount_file_id": "1vdilGJn6IWN6X4QN7WQZVy7JrLgCluHA",
      "authorship_tag": "ABX9TyM161b2uETJx9xartq6MV9w",
      "include_colab_link": true
    },
    "kernelspec": {
      "name": "python3",
      "display_name": "Python 3"
    },
    "language_info": {
      "name": "python"
    }
  },
  "cells": [
    {
      "cell_type": "markdown",
      "metadata": {
        "id": "view-in-github",
        "colab_type": "text"
      },
      "source": [
        "<a href=\"https://colab.research.google.com/github/MohammadPashaee/AI-Super-Course/blob/main/Assignments/S1/S1A7/S1A7.ipynb\" target=\"_parent\"><img src=\"https://colab.research.google.com/assets/colab-badge.svg\" alt=\"Open In Colab\"/></a>"
      ]
    },
    {
      "cell_type": "code",
      "execution_count": null,
      "metadata": {
        "id": "TyNuOdMifEMf"
      },
      "outputs": [],
      "source": [
        "import pandas as pd\n",
        "import numpy as np"
      ]
    },
    {
      "cell_type": "code",
      "source": [
        "df = pd.read_csv(\"/content/drive/MyDrive/garments_worker_productivity.csv\")"
      ],
      "metadata": {
        "id": "iZP2Udu-fKDR"
      },
      "execution_count": null,
      "outputs": []
    },
    {
      "cell_type": "code",
      "source": [
        "print(df.shape)\n",
        "df.head()"
      ],
      "metadata": {
        "colab": {
          "base_uri": "https://localhost:8080/",
          "height": 268
        },
        "id": "jDeGn0n6fiHA",
        "outputId": "2b4c2e39-f912-478f-8298-b88a32974501"
      },
      "execution_count": null,
      "outputs": [
        {
          "output_type": "stream",
          "name": "stdout",
          "text": [
            "(1197, 15)\n"
          ]
        },
        {
          "output_type": "execute_result",
          "data": {
            "text/plain": [
              "       date   quarter  department       day  team  targeted_productivity  \\\n",
              "0  1/1/2015  Quarter1      sweing  Thursday     8                   0.80   \n",
              "1  1/1/2015  Quarter1  finishing   Thursday     1                   0.75   \n",
              "2  1/1/2015  Quarter1      sweing  Thursday    11                   0.80   \n",
              "3  1/1/2015  Quarter1      sweing  Thursday    12                   0.80   \n",
              "4  1/1/2015  Quarter1      sweing  Thursday     6                   0.80   \n",
              "\n",
              "     smv     wip  over_time  incentive  idle_time  idle_men  \\\n",
              "0  26.16  1108.0       7080         98        0.0         0   \n",
              "1   3.94     NaN        960          0        0.0         0   \n",
              "2  11.41   968.0       3660         50        0.0         0   \n",
              "3  11.41   968.0       3660         50        0.0         0   \n",
              "4  25.90  1170.0       1920         50        0.0         0   \n",
              "\n",
              "   no_of_style_change  no_of_workers  actual_productivity  \n",
              "0                   0           59.0             0.940725  \n",
              "1                   0            8.0             0.886500  \n",
              "2                   0           30.5             0.800570  \n",
              "3                   0           30.5             0.800570  \n",
              "4                   0           56.0             0.800382  "
            ],
            "text/html": [
              "\n",
              "\n",
              "  <div id=\"df-339a643b-91cb-41a1-8ee1-8ac46af60fc7\">\n",
              "    <div class=\"colab-df-container\">\n",
              "      <div>\n",
              "<style scoped>\n",
              "    .dataframe tbody tr th:only-of-type {\n",
              "        vertical-align: middle;\n",
              "    }\n",
              "\n",
              "    .dataframe tbody tr th {\n",
              "        vertical-align: top;\n",
              "    }\n",
              "\n",
              "    .dataframe thead th {\n",
              "        text-align: right;\n",
              "    }\n",
              "</style>\n",
              "<table border=\"1\" class=\"dataframe\">\n",
              "  <thead>\n",
              "    <tr style=\"text-align: right;\">\n",
              "      <th></th>\n",
              "      <th>date</th>\n",
              "      <th>quarter</th>\n",
              "      <th>department</th>\n",
              "      <th>day</th>\n",
              "      <th>team</th>\n",
              "      <th>targeted_productivity</th>\n",
              "      <th>smv</th>\n",
              "      <th>wip</th>\n",
              "      <th>over_time</th>\n",
              "      <th>incentive</th>\n",
              "      <th>idle_time</th>\n",
              "      <th>idle_men</th>\n",
              "      <th>no_of_style_change</th>\n",
              "      <th>no_of_workers</th>\n",
              "      <th>actual_productivity</th>\n",
              "    </tr>\n",
              "  </thead>\n",
              "  <tbody>\n",
              "    <tr>\n",
              "      <th>0</th>\n",
              "      <td>1/1/2015</td>\n",
              "      <td>Quarter1</td>\n",
              "      <td>sweing</td>\n",
              "      <td>Thursday</td>\n",
              "      <td>8</td>\n",
              "      <td>0.80</td>\n",
              "      <td>26.16</td>\n",
              "      <td>1108.0</td>\n",
              "      <td>7080</td>\n",
              "      <td>98</td>\n",
              "      <td>0.0</td>\n",
              "      <td>0</td>\n",
              "      <td>0</td>\n",
              "      <td>59.0</td>\n",
              "      <td>0.940725</td>\n",
              "    </tr>\n",
              "    <tr>\n",
              "      <th>1</th>\n",
              "      <td>1/1/2015</td>\n",
              "      <td>Quarter1</td>\n",
              "      <td>finishing</td>\n",
              "      <td>Thursday</td>\n",
              "      <td>1</td>\n",
              "      <td>0.75</td>\n",
              "      <td>3.94</td>\n",
              "      <td>NaN</td>\n",
              "      <td>960</td>\n",
              "      <td>0</td>\n",
              "      <td>0.0</td>\n",
              "      <td>0</td>\n",
              "      <td>0</td>\n",
              "      <td>8.0</td>\n",
              "      <td>0.886500</td>\n",
              "    </tr>\n",
              "    <tr>\n",
              "      <th>2</th>\n",
              "      <td>1/1/2015</td>\n",
              "      <td>Quarter1</td>\n",
              "      <td>sweing</td>\n",
              "      <td>Thursday</td>\n",
              "      <td>11</td>\n",
              "      <td>0.80</td>\n",
              "      <td>11.41</td>\n",
              "      <td>968.0</td>\n",
              "      <td>3660</td>\n",
              "      <td>50</td>\n",
              "      <td>0.0</td>\n",
              "      <td>0</td>\n",
              "      <td>0</td>\n",
              "      <td>30.5</td>\n",
              "      <td>0.800570</td>\n",
              "    </tr>\n",
              "    <tr>\n",
              "      <th>3</th>\n",
              "      <td>1/1/2015</td>\n",
              "      <td>Quarter1</td>\n",
              "      <td>sweing</td>\n",
              "      <td>Thursday</td>\n",
              "      <td>12</td>\n",
              "      <td>0.80</td>\n",
              "      <td>11.41</td>\n",
              "      <td>968.0</td>\n",
              "      <td>3660</td>\n",
              "      <td>50</td>\n",
              "      <td>0.0</td>\n",
              "      <td>0</td>\n",
              "      <td>0</td>\n",
              "      <td>30.5</td>\n",
              "      <td>0.800570</td>\n",
              "    </tr>\n",
              "    <tr>\n",
              "      <th>4</th>\n",
              "      <td>1/1/2015</td>\n",
              "      <td>Quarter1</td>\n",
              "      <td>sweing</td>\n",
              "      <td>Thursday</td>\n",
              "      <td>6</td>\n",
              "      <td>0.80</td>\n",
              "      <td>25.90</td>\n",
              "      <td>1170.0</td>\n",
              "      <td>1920</td>\n",
              "      <td>50</td>\n",
              "      <td>0.0</td>\n",
              "      <td>0</td>\n",
              "      <td>0</td>\n",
              "      <td>56.0</td>\n",
              "      <td>0.800382</td>\n",
              "    </tr>\n",
              "  </tbody>\n",
              "</table>\n",
              "</div>\n",
              "      <button class=\"colab-df-convert\" onclick=\"convertToInteractive('df-339a643b-91cb-41a1-8ee1-8ac46af60fc7')\"\n",
              "              title=\"Convert this dataframe to an interactive table.\"\n",
              "              style=\"display:none;\">\n",
              "\n",
              "  <svg xmlns=\"http://www.w3.org/2000/svg\" height=\"24px\"viewBox=\"0 0 24 24\"\n",
              "       width=\"24px\">\n",
              "    <path d=\"M0 0h24v24H0V0z\" fill=\"none\"/>\n",
              "    <path d=\"M18.56 5.44l.94 2.06.94-2.06 2.06-.94-2.06-.94-.94-2.06-.94 2.06-2.06.94zm-11 1L8.5 8.5l.94-2.06 2.06-.94-2.06-.94L8.5 2.5l-.94 2.06-2.06.94zm10 10l.94 2.06.94-2.06 2.06-.94-2.06-.94-.94-2.06-.94 2.06-2.06.94z\"/><path d=\"M17.41 7.96l-1.37-1.37c-.4-.4-.92-.59-1.43-.59-.52 0-1.04.2-1.43.59L10.3 9.45l-7.72 7.72c-.78.78-.78 2.05 0 2.83L4 21.41c.39.39.9.59 1.41.59.51 0 1.02-.2 1.41-.59l7.78-7.78 2.81-2.81c.8-.78.8-2.07 0-2.86zM5.41 20L4 18.59l7.72-7.72 1.47 1.35L5.41 20z\"/>\n",
              "  </svg>\n",
              "      </button>\n",
              "\n",
              "\n",
              "\n",
              "    <div id=\"df-9ca0353c-ec2a-4143-80e0-7e5523a6c83e\">\n",
              "      <button class=\"colab-df-quickchart\" onclick=\"quickchart('df-9ca0353c-ec2a-4143-80e0-7e5523a6c83e')\"\n",
              "              title=\"Suggest charts.\"\n",
              "              style=\"display:none;\">\n",
              "\n",
              "<svg xmlns=\"http://www.w3.org/2000/svg\" height=\"24px\"viewBox=\"0 0 24 24\"\n",
              "     width=\"24px\">\n",
              "    <g>\n",
              "        <path d=\"M19 3H5c-1.1 0-2 .9-2 2v14c0 1.1.9 2 2 2h14c1.1 0 2-.9 2-2V5c0-1.1-.9-2-2-2zM9 17H7v-7h2v7zm4 0h-2V7h2v10zm4 0h-2v-4h2v4z\"/>\n",
              "    </g>\n",
              "</svg>\n",
              "      </button>\n",
              "    </div>\n",
              "\n",
              "<style>\n",
              "  .colab-df-quickchart {\n",
              "    background-color: #E8F0FE;\n",
              "    border: none;\n",
              "    border-radius: 50%;\n",
              "    cursor: pointer;\n",
              "    display: none;\n",
              "    fill: #1967D2;\n",
              "    height: 32px;\n",
              "    padding: 0 0 0 0;\n",
              "    width: 32px;\n",
              "  }\n",
              "\n",
              "  .colab-df-quickchart:hover {\n",
              "    background-color: #E2EBFA;\n",
              "    box-shadow: 0px 1px 2px rgba(60, 64, 67, 0.3), 0px 1px 3px 1px rgba(60, 64, 67, 0.15);\n",
              "    fill: #174EA6;\n",
              "  }\n",
              "\n",
              "  [theme=dark] .colab-df-quickchart {\n",
              "    background-color: #3B4455;\n",
              "    fill: #D2E3FC;\n",
              "  }\n",
              "\n",
              "  [theme=dark] .colab-df-quickchart:hover {\n",
              "    background-color: #434B5C;\n",
              "    box-shadow: 0px 1px 3px 1px rgba(0, 0, 0, 0.15);\n",
              "    filter: drop-shadow(0px 1px 2px rgba(0, 0, 0, 0.3));\n",
              "    fill: #FFFFFF;\n",
              "  }\n",
              "</style>\n",
              "\n",
              "    <script>\n",
              "      async function quickchart(key) {\n",
              "        const containerElement = document.querySelector('#' + key);\n",
              "        const charts = await google.colab.kernel.invokeFunction(\n",
              "            'suggestCharts', [key], {});\n",
              "      }\n",
              "    </script>\n",
              "\n",
              "      <script>\n",
              "\n",
              "function displayQuickchartButton(domScope) {\n",
              "  let quickchartButtonEl =\n",
              "    domScope.querySelector('#df-9ca0353c-ec2a-4143-80e0-7e5523a6c83e button.colab-df-quickchart');\n",
              "  quickchartButtonEl.style.display =\n",
              "    google.colab.kernel.accessAllowed ? 'block' : 'none';\n",
              "}\n",
              "\n",
              "        displayQuickchartButton(document);\n",
              "      </script>\n",
              "      <style>\n",
              "    .colab-df-container {\n",
              "      display:flex;\n",
              "      flex-wrap:wrap;\n",
              "      gap: 12px;\n",
              "    }\n",
              "\n",
              "    .colab-df-convert {\n",
              "      background-color: #E8F0FE;\n",
              "      border: none;\n",
              "      border-radius: 50%;\n",
              "      cursor: pointer;\n",
              "      display: none;\n",
              "      fill: #1967D2;\n",
              "      height: 32px;\n",
              "      padding: 0 0 0 0;\n",
              "      width: 32px;\n",
              "    }\n",
              "\n",
              "    .colab-df-convert:hover {\n",
              "      background-color: #E2EBFA;\n",
              "      box-shadow: 0px 1px 2px rgba(60, 64, 67, 0.3), 0px 1px 3px 1px rgba(60, 64, 67, 0.15);\n",
              "      fill: #174EA6;\n",
              "    }\n",
              "\n",
              "    [theme=dark] .colab-df-convert {\n",
              "      background-color: #3B4455;\n",
              "      fill: #D2E3FC;\n",
              "    }\n",
              "\n",
              "    [theme=dark] .colab-df-convert:hover {\n",
              "      background-color: #434B5C;\n",
              "      box-shadow: 0px 1px 3px 1px rgba(0, 0, 0, 0.15);\n",
              "      filter: drop-shadow(0px 1px 2px rgba(0, 0, 0, 0.3));\n",
              "      fill: #FFFFFF;\n",
              "    }\n",
              "  </style>\n",
              "\n",
              "      <script>\n",
              "        const buttonEl =\n",
              "          document.querySelector('#df-339a643b-91cb-41a1-8ee1-8ac46af60fc7 button.colab-df-convert');\n",
              "        buttonEl.style.display =\n",
              "          google.colab.kernel.accessAllowed ? 'block' : 'none';\n",
              "\n",
              "        async function convertToInteractive(key) {\n",
              "          const element = document.querySelector('#df-339a643b-91cb-41a1-8ee1-8ac46af60fc7');\n",
              "          const dataTable =\n",
              "            await google.colab.kernel.invokeFunction('convertToInteractive',\n",
              "                                                     [key], {});\n",
              "          if (!dataTable) return;\n",
              "\n",
              "          const docLinkHtml = 'Like what you see? Visit the ' +\n",
              "            '<a target=\"_blank\" href=https://colab.research.google.com/notebooks/data_table.ipynb>data table notebook</a>'\n",
              "            + ' to learn more about interactive tables.';\n",
              "          element.innerHTML = '';\n",
              "          dataTable['output_type'] = 'display_data';\n",
              "          await google.colab.output.renderOutput(dataTable, element);\n",
              "          const docLink = document.createElement('div');\n",
              "          docLink.innerHTML = docLinkHtml;\n",
              "          element.appendChild(docLink);\n",
              "        }\n",
              "      </script>\n",
              "    </div>\n",
              "  </div>\n"
            ]
          },
          "metadata": {},
          "execution_count": 7
        }
      ]
    },
    {
      "cell_type": "code",
      "source": [
        "df_nans_filled = df.fillna(df.mean())"
      ],
      "metadata": {
        "colab": {
          "base_uri": "https://localhost:8080/"
        },
        "id": "XqD3oV_xjXxG",
        "outputId": "3df099da-73ed-4e26-bb09-bb2fdbeadbdf"
      },
      "execution_count": null,
      "outputs": [
        {
          "output_type": "stream",
          "name": "stderr",
          "text": [
            "<ipython-input-16-a44ca989ad30>:1: FutureWarning: The default value of numeric_only in DataFrame.mean is deprecated. In a future version, it will default to False. In addition, specifying 'numeric_only=None' is deprecated. Select only valid columns or specify the value of numeric_only to silence this warning.\n",
            "  df_nans_filled = df.fillna(df.mean())\n"
          ]
        }
      ]
    },
    {
      "cell_type": "code",
      "source": [
        "df_x = df_nans_filled.drop(labels=[\"date\", \"quarter\", \"department\", \"day\"], axis=1)\n",
        "df_y = df_nans_filled[[\"actual_productivity\"]]\n",
        "\n",
        "print(df_x.shape, df_y.shape)"
      ],
      "metadata": {
        "colab": {
          "base_uri": "https://localhost:8080/"
        },
        "id": "8dDwEBSnhAef",
        "outputId": "d1c3df74-dfbf-41ad-cf29-672391d1c791"
      },
      "execution_count": null,
      "outputs": [
        {
          "output_type": "stream",
          "name": "stdout",
          "text": [
            "(1197, 11) (1197, 1)\n"
          ]
        }
      ]
    },
    {
      "cell_type": "code",
      "source": [
        "from sklearn.preprocessing import StandardScaler\n",
        "\n",
        "scaler = StandardScaler()\n",
        "\n",
        "x_nrm = scaler.fit_transform(df_x)"
      ],
      "metadata": {
        "id": "oPVNWEAniWkE"
      },
      "execution_count": null,
      "outputs": []
    },
    {
      "cell_type": "code",
      "source": [
        "from sklearn.model_selection  import train_test_split\n",
        "\n",
        "x_train, x_test, y_train, y_test = train_test_split(x_nrm, df_y.values.reshape((-1, )), train_size=0.8)"
      ],
      "metadata": {
        "id": "6TZ7Aw2XipZr"
      },
      "execution_count": null,
      "outputs": []
    },
    {
      "cell_type": "code",
      "source": [
        "from keras.callbacks import EarlyStopping\n",
        "\n",
        "callBack  = EarlyStopping(patience=5, restore_best_weights=True)"
      ],
      "metadata": {
        "id": "ISvzPgQnixZf"
      },
      "execution_count": null,
      "outputs": []
    },
    {
      "cell_type": "code",
      "source": [
        "from keras.models import Sequential\n",
        "from keras.layers import Dense\n",
        "\n",
        "model = Sequential()\n",
        "\n",
        "model.add(Dense(512, activation='relu', input_shape=x_train.shape[1:]))\n",
        "\n",
        "model.add(Dense(256, activation='relu'))\n",
        "\n",
        "model.add(Dense(64, activation='relu'))\n",
        "\n",
        "model.add(Dense(32, activation='relu'))\n",
        "\n",
        "model.add(Dense(1, 'linear'))\n",
        "\n",
        "model.compile(optimizer='adam', loss='mse')\n",
        "\n",
        "results = model.fit(x_train, y_train, epochs=32, validation_data=(x_test, y_test), callbacks=callBack)"
      ],
      "metadata": {
        "colab": {
          "base_uri": "https://localhost:8080/"
        },
        "id": "44GJsnh8i2Rw",
        "outputId": "465b3bfd-8a69-49e7-b95e-9686879259cc"
      },
      "execution_count": null,
      "outputs": [
        {
          "output_type": "stream",
          "name": "stdout",
          "text": [
            "Epoch 1/32\n",
            "30/30 [==============================] - 2s 15ms/step - loss: 0.0940 - val_loss: 0.0157\n",
            "Epoch 2/32\n",
            "30/30 [==============================] - 0s 8ms/step - loss: 0.0094 - val_loss: 0.0063\n",
            "Epoch 3/32\n",
            "30/30 [==============================] - 0s 13ms/step - loss: 0.0073 - val_loss: 0.0041\n",
            "Epoch 4/32\n",
            "30/30 [==============================] - 0s 10ms/step - loss: 0.0037 - val_loss: 0.0048\n",
            "Epoch 5/32\n",
            "30/30 [==============================] - 0s 10ms/step - loss: 0.0049 - val_loss: 0.0052\n",
            "Epoch 6/32\n",
            "30/30 [==============================] - 0s 12ms/step - loss: 0.0031 - val_loss: 0.0039\n",
            "Epoch 7/32\n",
            "30/30 [==============================] - 0s 12ms/step - loss: 0.0021 - val_loss: 0.0030\n",
            "Epoch 8/32\n",
            "30/30 [==============================] - 0s 14ms/step - loss: 0.0013 - val_loss: 0.0022\n",
            "Epoch 9/32\n",
            "30/30 [==============================] - 0s 13ms/step - loss: 7.8282e-04 - val_loss: 0.0014\n",
            "Epoch 10/32\n",
            "30/30 [==============================] - 0s 11ms/step - loss: 9.4445e-04 - val_loss: 0.0020\n",
            "Epoch 11/32\n",
            "30/30 [==============================] - 0s 13ms/step - loss: 0.0013 - val_loss: 0.0024\n",
            "Epoch 12/32\n",
            "30/30 [==============================] - 0s 12ms/step - loss: 0.0011 - val_loss: 0.0016\n",
            "Epoch 13/32\n",
            "30/30 [==============================] - 0s 13ms/step - loss: 0.0012 - val_loss: 0.0014\n",
            "Epoch 14/32\n",
            "30/30 [==============================] - 0s 14ms/step - loss: 8.5756e-04 - val_loss: 0.0016\n"
          ]
        }
      ]
    },
    {
      "cell_type": "code",
      "source": [
        "model.summary()"
      ],
      "metadata": {
        "colab": {
          "base_uri": "https://localhost:8080/"
        },
        "id": "-4t4LpU4i_gQ",
        "outputId": "33ab2f2c-bab3-4d46-aaf0-99d9fe6d0d33"
      },
      "execution_count": null,
      "outputs": [
        {
          "output_type": "stream",
          "name": "stdout",
          "text": [
            "Model: \"sequential_1\"\n",
            "_________________________________________________________________\n",
            " Layer (type)                Output Shape              Param #   \n",
            "=================================================================\n",
            " dense_5 (Dense)             (None, 512)               6144      \n",
            "                                                                 \n",
            " dense_6 (Dense)             (None, 256)               131328    \n",
            "                                                                 \n",
            " dense_7 (Dense)             (None, 64)                16448     \n",
            "                                                                 \n",
            " dense_8 (Dense)             (None, 32)                2080      \n",
            "                                                                 \n",
            " dense_9 (Dense)             (None, 1)                 33        \n",
            "                                                                 \n",
            "=================================================================\n",
            "Total params: 156,033\n",
            "Trainable params: 156,033\n",
            "Non-trainable params: 0\n",
            "_________________________________________________________________\n"
          ]
        }
      ]
    },
    {
      "cell_type": "code",
      "source": [
        "yhat_test = model.predict(x_test)"
      ],
      "metadata": {
        "colab": {
          "base_uri": "https://localhost:8080/"
        },
        "id": "ZqUkTuACjy5I",
        "outputId": "e1de5793-9d4d-4494-cfba-a80aed260329"
      },
      "execution_count": null,
      "outputs": [
        {
          "output_type": "stream",
          "name": "stdout",
          "text": [
            "8/8 [==============================] - 0s 9ms/step\n"
          ]
        }
      ]
    },
    {
      "cell_type": "code",
      "source": [
        "import matplotlib.pyplot as plt"
      ],
      "metadata": {
        "id": "KSgogueLj14e"
      },
      "execution_count": null,
      "outputs": []
    },
    {
      "cell_type": "code",
      "source": [
        "plt.plot(results.history[\"loss\"], label=\"loss\")\n",
        "plt.plot(results.history[\"val_loss\"], label=\"val_loss\")\n",
        "\n",
        "plt.legend()"
      ],
      "metadata": {
        "colab": {
          "base_uri": "https://localhost:8080/",
          "height": 448
        },
        "id": "Ym2135Jqj3cy",
        "outputId": "6dd6ac49-5168-466f-f299-fb1e7fc47ec2"
      },
      "execution_count": null,
      "outputs": [
        {
          "output_type": "execute_result",
          "data": {
            "text/plain": [
              "<matplotlib.legend.Legend at 0x7c627a53e5f0>"
            ]
          },
          "metadata": {},
          "execution_count": 29
        },
        {
          "output_type": "display_data",
          "data": {
            "text/plain": [
              "<Figure size 640x480 with 1 Axes>"
            ],
            "image/png": "[encoded data removed]"
          },
          "metadata": {}
        }
      ]
    },
    {
      "cell_type": "code",
      "source": [
        "plt.scatter(y_test, yhat_test)"
      ],
      "metadata": {
        "colab": {
          "base_uri": "https://localhost:8080/",
          "height": 448
        },
        "id": "RkcYfkuRj6df",
        "outputId": "c86dae67-51cb-4f7c-97df-e9b2030f0752"
      },
      "execution_count": null,
      "outputs": [
        {
          "output_type": "execute_result",
          "data": {
            "text/plain": [
              "<matplotlib.collections.PathCollection at 0x7c627a4129e0>"
            ]
          },
          "metadata": {},
          "execution_count": 30
        },
        {
          "output_type": "display_data",
          "data": {
            "text/plain": [
              "<Figure size 640x480 with 1 Axes>"
            ],
            "image/png": "[encoded data removed]"
          },
          "metadata": {}
        }
      ]
    },
    {
      "cell_type": "code",
      "source": [
        "model1 = Sequential()\n",
        "\n",
        "model1.add(Dense(512, activation='tanh', input_shape=x_train.shape[1:]))\n",
        "\n",
        "model1.add(Dense(256, activation='relu'))\n",
        "\n",
        "model1.add(Dense(64, activation='relu'))\n",
        "\n",
        "model1.add(Dense(32, activation='relu'))\n",
        "\n",
        "model1.add(Dense(1, 'linear'))\n",
        "\n",
        "model1.compile(optimizer='adam', loss='mse')\n",
        "\n",
        "results1 = model1.fit(x_train, y_train, epochs=32, validation_data=(x_test, y_test), callbacks=callBack)"
      ],
      "metadata": {
        "colab": {
          "base_uri": "https://localhost:8080/"
        },
        "id": "9mYnoPudj-wn",
        "outputId": "5cbbe178-31c9-41df-97e0-de3fca0081da"
      },
      "execution_count": null,
      "outputs": [
        {
          "output_type": "stream",
          "name": "stdout",
          "text": [
            "Epoch 1/32\n",
            "30/30 [==============================] - 3s 29ms/step - loss: 0.0603 - val_loss: 0.0126\n",
            "Epoch 2/32\n",
            "30/30 [==============================] - 0s 9ms/step - loss: 0.0132 - val_loss: 0.0082\n",
            "Epoch 3/32\n",
            "30/30 [==============================] - 0s 9ms/step - loss: 0.0059 - val_loss: 0.0069\n",
            "Epoch 4/32\n",
            "30/30 [==============================] - 0s 9ms/step - loss: 0.0052 - val_loss: 0.0037\n",
            "Epoch 5/32\n",
            "30/30 [==============================] - 0s 8ms/step - loss: 0.0038 - val_loss: 0.0076\n",
            "Epoch 6/32\n",
            "30/30 [==============================] - 0s 8ms/step - loss: 0.0036 - val_loss: 0.0044\n",
            "Epoch 7/32\n",
            "30/30 [==============================] - 0s 9ms/step - loss: 0.0017 - val_loss: 0.0021\n",
            "Epoch 8/32\n",
            "30/30 [==============================] - 0s 7ms/step - loss: 0.0014 - val_loss: 0.0016\n",
            "Epoch 9/32\n",
            "30/30 [==============================] - 0s 7ms/step - loss: 8.5830e-04 - val_loss: 0.0020\n",
            "Epoch 10/32\n",
            "30/30 [==============================] - 0s 8ms/step - loss: 0.0010 - val_loss: 0.0018\n",
            "Epoch 11/32\n",
            "30/30 [==============================] - 0s 7ms/step - loss: 8.1462e-04 - val_loss: 0.0014\n",
            "Epoch 12/32\n",
            "30/30 [==============================] - 0s 8ms/step - loss: 7.7110e-04 - val_loss: 0.0023\n",
            "Epoch 13/32\n",
            "30/30 [==============================] - 0s 7ms/step - loss: 7.7233e-04 - val_loss: 0.0015\n",
            "Epoch 14/32\n",
            "30/30 [==============================] - 0s 7ms/step - loss: 6.2364e-04 - val_loss: 0.0014\n",
            "Epoch 15/32\n",
            "30/30 [==============================] - 0s 8ms/step - loss: 0.0012 - val_loss: 0.0033\n",
            "Epoch 16/32\n",
            "30/30 [==============================] - 0s 7ms/step - loss: 0.0017 - val_loss: 0.0016\n",
            "Epoch 17/32\n",
            "30/30 [==============================] - 0s 10ms/step - loss: 7.7736e-04 - val_loss: 0.0025\n",
            "Epoch 18/32\n",
            "30/30 [==============================] - 0s 7ms/step - loss: 0.0016 - val_loss: 0.0036\n",
            "Epoch 19/32\n",
            "30/30 [==============================] - 0s 9ms/step - loss: 0.0013 - val_loss: 0.0022\n"
          ]
        }
      ]
    },
    {
      "cell_type": "code",
      "source": [
        "model1.summary()"
      ],
      "metadata": {
        "colab": {
          "base_uri": "https://localhost:8080/"
        },
        "id": "WG2Ec4SpkFlC",
        "outputId": "1656f853-3680-4d76-e63d-f4a039be82af"
      },
      "execution_count": null,
      "outputs": [
        {
          "output_type": "stream",
          "name": "stdout",
          "text": [
            "Model: \"sequential_2\"\n",
            "_________________________________________________________________\n",
            " Layer (type)                Output Shape              Param #   \n",
            "=================================================================\n",
            " dense_10 (Dense)            (None, 512)               6144      \n",
            "                                                                 \n",
            " dense_11 (Dense)            (None, 256)               131328    \n",
            "                                                                 \n",
            " dense_12 (Dense)            (None, 64)                16448     \n",
            "                                                                 \n",
            " dense_13 (Dense)            (None, 32)                2080      \n",
            "                                                                 \n",
            " dense_14 (Dense)            (None, 1)                 33        \n",
            "                                                                 \n",
            "=================================================================\n",
            "Total params: 156,033\n",
            "Trainable params: 156,033\n",
            "Non-trainable params: 0\n",
            "_________________________________________________________________\n"
          ]
        }
      ]
    },
    {
      "cell_type": "code",
      "source": [
        "yhat_test1 = model1.predict(x_test)"
      ],
      "metadata": {
        "colab": {
          "base_uri": "https://localhost:8080/"
        },
        "id": "z6-5eOS9kIJP",
        "outputId": "bdc5f40a-b64f-45fb-938f-37c89dc76e21"
      },
      "execution_count": null,
      "outputs": [
        {
          "output_type": "stream",
          "name": "stdout",
          "text": [
            "8/8 [==============================] - 0s 6ms/step\n"
          ]
        }
      ]
    },
    {
      "cell_type": "code",
      "source": [
        "plt.plot(results1.history[\"loss\"], label=\"loss\")\n",
        "plt.plot(results1.history[\"val_loss\"], label=\"val_loss\")\n",
        "\n",
        "plt.legend()"
      ],
      "metadata": {
        "colab": {
          "base_uri": "https://localhost:8080/",
          "height": 448
        },
        "id": "cJVVZCsxkMS-",
        "outputId": "31eb3597-647c-4fba-a563-f78a290eb0cb"
      },
      "execution_count": null,
      "outputs": [
        {
          "output_type": "execute_result",
          "data": {
            "text/plain": [
              "<matplotlib.legend.Legend at 0x7c627a2b5f00>"
            ]
          },
          "metadata": {},
          "execution_count": 34
        },
        {
          "output_type": "display_data",
          "data": {
            "text/plain": [
              "<Figure size 640x480 with 1 Axes>"
            ],
            "image/png": "[encoded data removed]"
          },
          "metadata": {}
        }
      ]
    },
    {
      "cell_type": "code",
      "source": [
        "plt.scatter(y_test, yhat_test1)"
      ],
      "metadata": {
        "colab": {
          "base_uri": "https://localhost:8080/",
          "height": 448
        },
        "id": "6PPxFXGrkQNP",
        "outputId": "645c27b8-d637-4498-a5b2-d8980199bdd1"
      },
      "execution_count": null,
      "outputs": [
        {
          "output_type": "execute_result",
          "data": {
            "text/plain": [
              "<matplotlib.collections.PathCollection at 0x7c627a1325c0>"
            ]
          },
          "metadata": {},
          "execution_count": 35
        },
        {
          "output_type": "display_data",
          "data": {
            "text/plain": [
              "<Figure size 640x480 with 1 Axes>"
            ],
            "image/png": "[encoded data removed]"
          },
          "metadata": {}
        }
      ]
    },
    {
      "cell_type": "code",
      "source": [
        "model2 = Sequential()\n",
        "\n",
        "model2.add(Dense(512, activation='relu', input_shape=x_train.shape[1:]))\n",
        "\n",
        "model2.add(Dense(256, activation='relu'))\n",
        "\n",
        "model2.add(Dense(64, activation='relu'))\n",
        "\n",
        "model2.add(Dense(32, activation='relu'))\n",
        "\n",
        "model2.add(Dense(16, activation='relu'))\n",
        "\n",
        "model2.add(Dense(1, 'linear'))\n",
        "\n",
        "model2.compile(optimizer='adam', loss='mse')\n",
        "\n",
        "results2 = model2.fit(x_train, y_train, epochs=32, validation_data=(x_test, y_test), callbacks=callBack)"
      ],
      "metadata": {
        "colab": {
          "base_uri": "https://localhost:8080/"
        },
        "id": "_1jQeEk6kVfs",
        "outputId": "c556a269-9584-4ec2-be62-18e0658e9679"
      },
      "execution_count": null,
      "outputs": [
        {
          "output_type": "stream",
          "name": "stdout",
          "text": [
            "Epoch 1/32\n",
            "30/30 [==============================] - 2s 24ms/step - loss: 0.1799 - val_loss: 0.0169\n",
            "Epoch 2/32\n",
            "30/30 [==============================] - 0s 14ms/step - loss: 0.0111 - val_loss: 0.0076\n",
            "Epoch 3/32\n",
            "30/30 [==============================] - 0s 14ms/step - loss: 0.0063 - val_loss: 0.0043\n",
            "Epoch 4/32\n",
            "30/30 [==============================] - 0s 14ms/step - loss: 0.0049 - val_loss: 0.0043\n",
            "Epoch 5/32\n",
            "30/30 [==============================] - 0s 8ms/step - loss: 0.0028 - val_loss: 0.0024\n",
            "Epoch 6/32\n",
            "30/30 [==============================] - 0s 9ms/step - loss: 0.0033 - val_loss: 0.0021\n",
            "Epoch 7/32\n",
            "30/30 [==============================] - 0s 9ms/step - loss: 0.0022 - val_loss: 0.0018\n",
            "Epoch 8/32\n",
            "30/30 [==============================] - 0s 7ms/step - loss: 0.0015 - val_loss: 0.0021\n",
            "Epoch 9/32\n",
            "30/30 [==============================] - 0s 8ms/step - loss: 0.0014 - val_loss: 0.0015\n",
            "Epoch 10/32\n",
            "30/30 [==============================] - 0s 11ms/step - loss: 0.0020 - val_loss: 0.0028\n",
            "Epoch 11/32\n",
            "30/30 [==============================] - 0s 14ms/step - loss: 0.0016 - val_loss: 0.0015\n",
            "Epoch 12/32\n",
            "30/30 [==============================] - 0s 16ms/step - loss: 7.5860e-04 - val_loss: 0.0013\n",
            "Epoch 13/32\n",
            "30/30 [==============================] - 0s 14ms/step - loss: 7.6482e-04 - val_loss: 0.0013\n",
            "Epoch 14/32\n",
            "30/30 [==============================] - 1s 20ms/step - loss: 7.7449e-04 - val_loss: 9.3564e-04\n",
            "Epoch 15/32\n",
            "30/30 [==============================] - 0s 13ms/step - loss: 7.3669e-04 - val_loss: 0.0014\n",
            "Epoch 16/32\n",
            "30/30 [==============================] - 0s 10ms/step - loss: 8.7813e-04 - val_loss: 0.0021\n",
            "Epoch 17/32\n",
            "30/30 [==============================] - 0s 9ms/step - loss: 0.0011 - val_loss: 0.0024\n",
            "Epoch 18/32\n",
            "30/30 [==============================] - 0s 8ms/step - loss: 6.3983e-04 - val_loss: 0.0011\n",
            "Epoch 19/32\n",
            "30/30 [==============================] - 0s 9ms/step - loss: 5.5209e-04 - val_loss: 9.4459e-04\n"
          ]
        }
      ]
    },
    {
      "cell_type": "code",
      "source": [
        "model2.summary()"
      ],
      "metadata": {
        "colab": {
          "base_uri": "https://localhost:8080/"
        },
        "id": "FQhTA4ejkipG",
        "outputId": "e676e6fc-68f7-4d1c-a5e8-954fed2d1cf9"
      },
      "execution_count": null,
      "outputs": [
        {
          "output_type": "stream",
          "name": "stdout",
          "text": [
            "Model: \"sequential_3\"\n",
            "_________________________________________________________________\n",
            " Layer (type)                Output Shape              Param #   \n",
            "=================================================================\n",
            " dense_15 (Dense)            (None, 512)               6144      \n",
            "                                                                 \n",
            " dense_16 (Dense)            (None, 256)               131328    \n",
            "                                                                 \n",
            " dense_17 (Dense)            (None, 64)                16448     \n",
            "                                                                 \n",
            " dense_18 (Dense)            (None, 32)                2080      \n",
            "                                                                 \n",
            " dense_19 (Dense)            (None, 16)                528       \n",
            "                                                                 \n",
            " dense_20 (Dense)            (None, 1)                 17        \n",
            "                                                                 \n",
            "=================================================================\n",
            "Total params: 156,545\n",
            "Trainable params: 156,545\n",
            "Non-trainable params: 0\n",
            "_________________________________________________________________\n"
          ]
        }
      ]
    },
    {
      "cell_type": "code",
      "source": [
        "yhat_test2 = model2.predict(x_test)"
      ],
      "metadata": {
        "colab": {
          "base_uri": "https://localhost:8080/"
        },
        "id": "GW6_HmInkleI",
        "outputId": "80d03b95-538a-4c81-9991-528e1e8db157"
      },
      "execution_count": null,
      "outputs": [
        {
          "output_type": "stream",
          "name": "stdout",
          "text": [
            "8/8 [==============================] - 1s 13ms/step\n"
          ]
        }
      ]
    },
    {
      "cell_type": "code",
      "source": [
        "plt.plot(results2.history[\"loss\"], label=\"loss\")\n",
        "plt.plot(results2.history[\"val_loss\"], label=\"val_loss\")\n",
        "\n",
        "plt.legend()"
      ],
      "metadata": {
        "colab": {
          "base_uri": "https://localhost:8080/",
          "height": 448
        },
        "id": "_88Zms1kkod2",
        "outputId": "734940b4-8b0b-4c01-cb09-f1847d945558"
      },
      "execution_count": null,
      "outputs": [
        {
          "output_type": "execute_result",
          "data": {
            "text/plain": [
              "<matplotlib.legend.Legend at 0x7c627854b790>"
            ]
          },
          "metadata": {},
          "execution_count": 39
        },
        {
          "output_type": "display_data",
          "data": {
            "text/plain": [
              "<Figure size 640x480 with 1 Axes>"
            ],
            "image/png": "[encoded data removed]"
          },
          "metadata": {}
        }
      ]
    },
    {
      "cell_type": "code",
      "source": [
        "plt.scatter(y_test, yhat_test2)"
      ],
      "metadata": {
        "id": "PxL95vFrkrNB",
        "outputId": "ae4520b7-af99-4ea6-aa38-846765a71213",
        "colab": {
          "base_uri": "https://localhost:8080/",
          "height": 448
        }
      },
      "execution_count": null,
      "outputs": [
        {
          "output_type": "execute_result",
          "data": {
            "text/plain": [
              "<matplotlib.collections.PathCollection at 0x7c6278454220>"
            ]
          },
          "metadata": {},
          "execution_count": 40
        },
        {
          "output_type": "display_data",
          "data": {
            "text/plain": [
              "<Figure size 640x480 with 1 Axes>"
            ],
            "image/png": "[encoded data removed]"
          },
          "metadata": {}
        }
      ]
    }
  ]
}