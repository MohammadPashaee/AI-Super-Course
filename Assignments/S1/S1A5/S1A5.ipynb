{
  "nbformat": 4,
  "nbformat_minor": 0,
  "metadata": {
    "colab": {
      "provenance": [],
      "mount_file_id": "1Hxd2t2hyVZk734EjZE0Czog6Gm_AVbyd",
      "authorship_tag": "ABX9TyOAe5tXSTdoFj0L1llYK7SD",
      "include_colab_link": true
    },
    "kernelspec": {
      "name": "python3",
      "display_name": "Python 3"
    },
    "language_info": {
      "name": "python"
    }
  },
  "cells": [
    {
      "cell_type": "markdown",
      "metadata": {
        "id": "view-in-github",
        "colab_type": "text"
      },
      "source": [
        "<a href=\"https://colab.research.google.com/github/MohammadPashaee/AI-Super-Course/blob/main/Assignments/S1/S1A5/S1A5.ipynb\" target=\"_parent\"><img src=\"https://colab.research.google.com/assets/colab-badge.svg\" alt=\"Open In Colab\"/></a>"
      ]
    },
    {
      "cell_type": "code",
      "execution_count": 385,
      "metadata": {
        "id": "tC89YD5uxXqb"
      },
      "outputs": [],
      "source": [
        "import pandas as pd\n",
        "import numpy as np\n",
        "import matplotlib.pyplot as plt"
      ]
    },
    {
      "cell_type": "code",
      "source": [
        "df = pd.read_csv(\"/content/drive/MyDrive/possum.csv\")"
      ],
      "metadata": {
        "id": "kjt0wT2jxb38"
      },
      "execution_count": 386,
      "outputs": []
    },
    {
      "cell_type": "code",
      "source": [
        "df.tail()"
      ],
      "metadata": {
        "colab": {
          "base_uri": "https://localhost:8080/",
          "height": 206
        },
        "id": "Hm_rZilkx1_X",
        "outputId": "e4a9cd6d-6bf8-49b3-cec1-a4fa547412a4"
      },
      "execution_count": 387,
      "outputs": [
        {
          "output_type": "execute_result",
          "data": {
            "text/plain": [
              "     case  site    Pop sex  age  hdlngth  skullw  totlngth  taill  footlgth  \\\n",
              "99    100     7  other   m  1.0     89.5    56.0      81.5   36.5      66.0   \n",
              "100   101     7  other   m  1.0     88.6    54.7      82.5   39.0      64.4   \n",
              "101   102     7  other   f  6.0     92.4    55.0      89.0   38.0      63.5   \n",
              "102   103     7  other   m  4.0     91.5    55.2      82.5   36.5      62.9   \n",
              "103   104     7  other   f  3.0     93.6    59.9      89.0   40.0      67.6   \n",
              "\n",
              "     earconch   eye  chest  belly  \n",
              "99       46.8  14.8   23.0   27.0  \n",
              "100      48.0  14.0   25.0   33.0  \n",
              "101      45.4  13.0   25.0   30.0  \n",
              "102      45.9  15.4   25.0   29.0  \n",
              "103      46.0  14.8   28.5   33.5  "
            ],
            "text/html": [
              "\n",
              "\n",
              "  <div id=\"df-8094567f-d6f6-487f-a63d-291a67b640c8\">\n",
              "    <div class=\"colab-df-container\">\n",
              "      <div>\n",
              "<style scoped>\n",
              "    .dataframe tbody tr th:only-of-type {\n",
              "        vertical-align: middle;\n",
              "    }\n",
              "\n",
              "    .dataframe tbody tr th {\n",
              "        vertical-align: top;\n",
              "    }\n",
              "\n",
              "    .dataframe thead th {\n",
              "        text-align: right;\n",
              "    }\n",
              "</style>\n",
              "<table border=\"1\" class=\"dataframe\">\n",
              "  <thead>\n",
              "    <tr style=\"text-align: right;\">\n",
              "      <th></th>\n",
              "      <th>case</th>\n",
              "      <th>site</th>\n",
              "      <th>Pop</th>\n",
              "      <th>sex</th>\n",
              "      <th>age</th>\n",
              "      <th>hdlngth</th>\n",
              "      <th>skullw</th>\n",
              "      <th>totlngth</th>\n",
              "      <th>taill</th>\n",
              "      <th>footlgth</th>\n",
              "      <th>earconch</th>\n",
              "      <th>eye</th>\n",
              "      <th>chest</th>\n",
              "      <th>belly</th>\n",
              "    </tr>\n",
              "  </thead>\n",
              "  <tbody>\n",
              "    <tr>\n",
              "      <th>99</th>\n",
              "      <td>100</td>\n",
              "      <td>7</td>\n",
              "      <td>other</td>\n",
              "      <td>m</td>\n",
              "      <td>1.0</td>\n",
              "      <td>89.5</td>\n",
              "      <td>56.0</td>\n",
              "      <td>81.5</td>\n",
              "      <td>36.5</td>\n",
              "      <td>66.0</td>\n",
              "      <td>46.8</td>\n",
              "      <td>14.8</td>\n",
              "      <td>23.0</td>\n",
              "      <td>27.0</td>\n",
              "    </tr>\n",
              "    <tr>\n",
              "      <th>100</th>\n",
              "      <td>101</td>\n",
              "      <td>7</td>\n",
              "      <td>other</td>\n",
              "      <td>m</td>\n",
              "      <td>1.0</td>\n",
              "      <td>88.6</td>\n",
              "      <td>54.7</td>\n",
              "      <td>82.5</td>\n",
              "      <td>39.0</td>\n",
              "      <td>64.4</td>\n",
              "      <td>48.0</td>\n",
              "      <td>14.0</td>\n",
              "      <td>25.0</td>\n",
              "      <td>33.0</td>\n",
              "    </tr>\n",
              "    <tr>\n",
              "      <th>101</th>\n",
              "      <td>102</td>\n",
              "      <td>7</td>\n",
              "      <td>other</td>\n",
              "      <td>f</td>\n",
              "      <td>6.0</td>\n",
              "      <td>92.4</td>\n",
              "      <td>55.0</td>\n",
              "      <td>89.0</td>\n",
              "      <td>38.0</td>\n",
              "      <td>63.5</td>\n",
              "      <td>45.4</td>\n",
              "      <td>13.0</td>\n",
              "      <td>25.0</td>\n",
              "      <td>30.0</td>\n",
              "    </tr>\n",
              "    <tr>\n",
              "      <th>102</th>\n",
              "      <td>103</td>\n",
              "      <td>7</td>\n",
              "      <td>other</td>\n",
              "      <td>m</td>\n",
              "      <td>4.0</td>\n",
              "      <td>91.5</td>\n",
              "      <td>55.2</td>\n",
              "      <td>82.5</td>\n",
              "      <td>36.5</td>\n",
              "      <td>62.9</td>\n",
              "      <td>45.9</td>\n",
              "      <td>15.4</td>\n",
              "      <td>25.0</td>\n",
              "      <td>29.0</td>\n",
              "    </tr>\n",
              "    <tr>\n",
              "      <th>103</th>\n",
              "      <td>104</td>\n",
              "      <td>7</td>\n",
              "      <td>other</td>\n",
              "      <td>f</td>\n",
              "      <td>3.0</td>\n",
              "      <td>93.6</td>\n",
              "      <td>59.9</td>\n",
              "      <td>89.0</td>\n",
              "      <td>40.0</td>\n",
              "      <td>67.6</td>\n",
              "      <td>46.0</td>\n",
              "      <td>14.8</td>\n",
              "      <td>28.5</td>\n",
              "      <td>33.5</td>\n",
              "    </tr>\n",
              "  </tbody>\n",
              "</table>\n",
              "</div>\n",
              "      <button class=\"colab-df-convert\" onclick=\"convertToInteractive('df-8094567f-d6f6-487f-a63d-291a67b640c8')\"\n",
              "              title=\"Convert this dataframe to an interactive table.\"\n",
              "              style=\"display:none;\">\n",
              "\n",
              "  <svg xmlns=\"http://www.w3.org/2000/svg\" height=\"24px\"viewBox=\"0 0 24 24\"\n",
              "       width=\"24px\">\n",
              "    <path d=\"M0 0h24v24H0V0z\" fill=\"none\"/>\n",
              "    <path d=\"M18.56 5.44l.94 2.06.94-2.06 2.06-.94-2.06-.94-.94-2.06-.94 2.06-2.06.94zm-11 1L8.5 8.5l.94-2.06 2.06-.94-2.06-.94L8.5 2.5l-.94 2.06-2.06.94zm10 10l.94 2.06.94-2.06 2.06-.94-2.06-.94-.94-2.06-.94 2.06-2.06.94z\"/><path d=\"M17.41 7.96l-1.37-1.37c-.4-.4-.92-.59-1.43-.59-.52 0-1.04.2-1.43.59L10.3 9.45l-7.72 7.72c-.78.78-.78 2.05 0 2.83L4 21.41c.39.39.9.59 1.41.59.51 0 1.02-.2 1.41-.59l7.78-7.78 2.81-2.81c.8-.78.8-2.07 0-2.86zM5.41 20L4 18.59l7.72-7.72 1.47 1.35L5.41 20z\"/>\n",
              "  </svg>\n",
              "      </button>\n",
              "\n",
              "\n",
              "\n",
              "    <div id=\"df-5be8fadd-20c0-4466-8f47-8556a6d14195\">\n",
              "      <button class=\"colab-df-quickchart\" onclick=\"quickchart('df-5be8fadd-20c0-4466-8f47-8556a6d14195')\"\n",
              "              title=\"Suggest charts.\"\n",
              "              style=\"display:none;\">\n",
              "\n",
              "<svg xmlns=\"http://www.w3.org/2000/svg\" height=\"24px\"viewBox=\"0 0 24 24\"\n",
              "     width=\"24px\">\n",
              "    <g>\n",
              "        <path d=\"M19 3H5c-1.1 0-2 .9-2 2v14c0 1.1.9 2 2 2h14c1.1 0 2-.9 2-2V5c0-1.1-.9-2-2-2zM9 17H7v-7h2v7zm4 0h-2V7h2v10zm4 0h-2v-4h2v4z\"/>\n",
              "    </g>\n",
              "</svg>\n",
              "      </button>\n",
              "    </div>\n",
              "\n",
              "<style>\n",
              "  .colab-df-quickchart {\n",
              "    background-color: #E8F0FE;\n",
              "    border: none;\n",
              "    border-radius: 50%;\n",
              "    cursor: pointer;\n",
              "    display: none;\n",
              "    fill: #1967D2;\n",
              "    height: 32px;\n",
              "    padding: 0 0 0 0;\n",
              "    width: 32px;\n",
              "  }\n",
              "\n",
              "  .colab-df-quickchart:hover {\n",
              "    background-color: #E2EBFA;\n",
              "    box-shadow: 0px 1px 2px rgba(60, 64, 67, 0.3), 0px 1px 3px 1px rgba(60, 64, 67, 0.15);\n",
              "    fill: #174EA6;\n",
              "  }\n",
              "\n",
              "  [theme=dark] .colab-df-quickchart {\n",
              "    background-color: #3B4455;\n",
              "    fill: #D2E3FC;\n",
              "  }\n",
              "\n",
              "  [theme=dark] .colab-df-quickchart:hover {\n",
              "    background-color: #434B5C;\n",
              "    box-shadow: 0px 1px 3px 1px rgba(0, 0, 0, 0.15);\n",
              "    filter: drop-shadow(0px 1px 2px rgba(0, 0, 0, 0.3));\n",
              "    fill: #FFFFFF;\n",
              "  }\n",
              "</style>\n",
              "\n",
              "    <script>\n",
              "      async function quickchart(key) {\n",
              "        const containerElement = document.querySelector('#' + key);\n",
              "        const charts = await google.colab.kernel.invokeFunction(\n",
              "            'suggestCharts', [key], {});\n",
              "      }\n",
              "    </script>\n",
              "\n",
              "      <script>\n",
              "\n",
              "function displayQuickchartButton(domScope) {\n",
              "  let quickchartButtonEl =\n",
              "    domScope.querySelector('#df-5be8fadd-20c0-4466-8f47-8556a6d14195 button.colab-df-quickchart');\n",
              "  quickchartButtonEl.style.display =\n",
              "    google.colab.kernel.accessAllowed ? 'block' : 'none';\n",
              "}\n",
              "\n",
              "        displayQuickchartButton(document);\n",
              "      </script>\n",
              "      <style>\n",
              "    .colab-df-container {\n",
              "      display:flex;\n",
              "      flex-wrap:wrap;\n",
              "      gap: 12px;\n",
              "    }\n",
              "\n",
              "    .colab-df-convert {\n",
              "      background-color: #E8F0FE;\n",
              "      border: none;\n",
              "      border-radius: 50%;\n",
              "      cursor: pointer;\n",
              "      display: none;\n",
              "      fill: #1967D2;\n",
              "      height: 32px;\n",
              "      padding: 0 0 0 0;\n",
              "      width: 32px;\n",
              "    }\n",
              "\n",
              "    .colab-df-convert:hover {\n",
              "      background-color: #E2EBFA;\n",
              "      box-shadow: 0px 1px 2px rgba(60, 64, 67, 0.3), 0px 1px 3px 1px rgba(60, 64, 67, 0.15);\n",
              "      fill: #174EA6;\n",
              "    }\n",
              "\n",
              "    [theme=dark] .colab-df-convert {\n",
              "      background-color: #3B4455;\n",
              "      fill: #D2E3FC;\n",
              "    }\n",
              "\n",
              "    [theme=dark] .colab-df-convert:hover {\n",
              "      background-color: #434B5C;\n",
              "      box-shadow: 0px 1px 3px 1px rgba(0, 0, 0, 0.15);\n",
              "      filter: drop-shadow(0px 1px 2px rgba(0, 0, 0, 0.3));\n",
              "      fill: #FFFFFF;\n",
              "    }\n",
              "  </style>\n",
              "\n",
              "      <script>\n",
              "        const buttonEl =\n",
              "          document.querySelector('#df-8094567f-d6f6-487f-a63d-291a67b640c8 button.colab-df-convert');\n",
              "        buttonEl.style.display =\n",
              "          google.colab.kernel.accessAllowed ? 'block' : 'none';\n",
              "\n",
              "        async function convertToInteractive(key) {\n",
              "          const element = document.querySelector('#df-8094567f-d6f6-487f-a63d-291a67b640c8');\n",
              "          const dataTable =\n",
              "            await google.colab.kernel.invokeFunction('convertToInteractive',\n",
              "                                                     [key], {});\n",
              "          if (!dataTable) return;\n",
              "\n",
              "          const docLinkHtml = 'Like what you see? Visit the ' +\n",
              "            '<a target=\"_blank\" href=https://colab.research.google.com/notebooks/data_table.ipynb>data table notebook</a>'\n",
              "            + ' to learn more about interactive tables.';\n",
              "          element.innerHTML = '';\n",
              "          dataTable['output_type'] = 'display_data';\n",
              "          await google.colab.output.renderOutput(dataTable, element);\n",
              "          const docLink = document.createElement('div');\n",
              "          docLink.innerHTML = docLinkHtml;\n",
              "          element.appendChild(docLink);\n",
              "        }\n",
              "      </script>\n",
              "    </div>\n",
              "  </div>\n"
            ]
          },
          "metadata": {},
          "execution_count": 387
        }
      ]
    },
    {
      "cell_type": "code",
      "source": [
        "v = df[\"Pop\"][0]\n",
        "\n",
        "for i in range(104):\n",
        "  if df[\"Pop\"][i] == v:\n",
        "    df[\"Pop\"][i] = 1\n",
        "  else:\n",
        "    df[\"Pop\"][i] = 0"
      ],
      "metadata": {
        "colab": {
          "base_uri": "https://localhost:8080/"
        },
        "id": "SCkgn60_-faS",
        "outputId": "d9de9ae1-d273-4888-9045-283aea94d36f"
      },
      "execution_count": 388,
      "outputs": [
        {
          "output_type": "stream",
          "name": "stderr",
          "text": [
            "<ipython-input-388-248ef5de93fd>:5: SettingWithCopyWarning: \n",
            "A value is trying to be set on a copy of a slice from a DataFrame\n",
            "\n",
            "See the caveats in the documentation: https://pandas.pydata.org/pandas-docs/stable/user_guide/indexing.html#returning-a-view-versus-a-copy\n",
            "  df[\"Pop\"][i] = 1\n",
            "<ipython-input-388-248ef5de93fd>:7: SettingWithCopyWarning: \n",
            "A value is trying to be set on a copy of a slice from a DataFrame\n",
            "\n",
            "See the caveats in the documentation: https://pandas.pydata.org/pandas-docs/stable/user_guide/indexing.html#returning-a-view-versus-a-copy\n",
            "  df[\"Pop\"][i] = 0\n"
          ]
        }
      ]
    },
    {
      "cell_type": "code",
      "source": [
        "s = df[\"sex\"][0]\n",
        "\n",
        "for i in range(104):\n",
        "  if df[\"sex\"][i] == s:\n",
        "    df[\"sex\"][i] = 1\n",
        "  else:\n",
        "    df[\"sex\"][i] = 0"
      ],
      "metadata": {
        "colab": {
          "base_uri": "https://localhost:8080/"
        },
        "id": "Zm0ZSZuVCLS0",
        "outputId": "cd205760-102c-45c2-dee1-ef488d55ae4b"
      },
      "execution_count": 389,
      "outputs": [
        {
          "output_type": "stream",
          "name": "stderr",
          "text": [
            "<ipython-input-389-a7e76804f6dc>:5: SettingWithCopyWarning: \n",
            "A value is trying to be set on a copy of a slice from a DataFrame\n",
            "\n",
            "See the caveats in the documentation: https://pandas.pydata.org/pandas-docs/stable/user_guide/indexing.html#returning-a-view-versus-a-copy\n",
            "  df[\"sex\"][i] = 1\n",
            "<ipython-input-389-a7e76804f6dc>:7: SettingWithCopyWarning: \n",
            "A value is trying to be set on a copy of a slice from a DataFrame\n",
            "\n",
            "See the caveats in the documentation: https://pandas.pydata.org/pandas-docs/stable/user_guide/indexing.html#returning-a-view-versus-a-copy\n",
            "  df[\"sex\"][i] = 0\n"
          ]
        }
      ]
    },
    {
      "cell_type": "code",
      "source": [
        "df.info()"
      ],
      "metadata": {
        "colab": {
          "base_uri": "https://localhost:8080/"
        },
        "id": "RWPTYOU1Gg-l",
        "outputId": "bb2531f7-232b-4ede-e1c9-32135a9bcd09"
      },
      "execution_count": 390,
      "outputs": [
        {
          "output_type": "stream",
          "name": "stdout",
          "text": [
            "<class 'pandas.core.frame.DataFrame'>\n",
            "RangeIndex: 104 entries, 0 to 103\n",
            "Data columns (total 14 columns):\n",
            " #   Column    Non-Null Count  Dtype  \n",
            "---  ------    --------------  -----  \n",
            " 0   case      104 non-null    int64  \n",
            " 1   site      104 non-null    int64  \n",
            " 2   Pop       104 non-null    object \n",
            " 3   sex       104 non-null    object \n",
            " 4   age       102 non-null    float64\n",
            " 5   hdlngth   104 non-null    float64\n",
            " 6   skullw    104 non-null    float64\n",
            " 7   totlngth  104 non-null    float64\n",
            " 8   taill     104 non-null    float64\n",
            " 9   footlgth  103 non-null    float64\n",
            " 10  earconch  104 non-null    float64\n",
            " 11  eye       104 non-null    float64\n",
            " 12  chest     104 non-null    float64\n",
            " 13  belly     104 non-null    float64\n",
            "dtypes: float64(10), int64(2), object(2)\n",
            "memory usage: 11.5+ KB\n"
          ]
        }
      ]
    },
    {
      "cell_type": "code",
      "source": [
        "df_nans_dropped = df.dropna()\n",
        "\n",
        "print(df_nans_dropped.shape)\n",
        "df_nans_dropped.info()"
      ],
      "metadata": {
        "colab": {
          "base_uri": "https://localhost:8080/"
        },
        "id": "HHE70uWzGmjW",
        "outputId": "e252b629-26dd-4cdb-947c-91bd042e34e1"
      },
      "execution_count": 391,
      "outputs": [
        {
          "output_type": "stream",
          "name": "stdout",
          "text": [
            "(101, 14)\n",
            "<class 'pandas.core.frame.DataFrame'>\n",
            "Int64Index: 101 entries, 0 to 103\n",
            "Data columns (total 14 columns):\n",
            " #   Column    Non-Null Count  Dtype  \n",
            "---  ------    --------------  -----  \n",
            " 0   case      101 non-null    int64  \n",
            " 1   site      101 non-null    int64  \n",
            " 2   Pop       101 non-null    object \n",
            " 3   sex       101 non-null    object \n",
            " 4   age       101 non-null    float64\n",
            " 5   hdlngth   101 non-null    float64\n",
            " 6   skullw    101 non-null    float64\n",
            " 7   totlngth  101 non-null    float64\n",
            " 8   taill     101 non-null    float64\n",
            " 9   footlgth  101 non-null    float64\n",
            " 10  earconch  101 non-null    float64\n",
            " 11  eye       101 non-null    float64\n",
            " 12  chest     101 non-null    float64\n",
            " 13  belly     101 non-null    float64\n",
            "dtypes: float64(10), int64(2), object(2)\n",
            "memory usage: 11.8+ KB\n"
          ]
        }
      ]
    },
    {
      "cell_type": "code",
      "source": [
        "df_x = df_nans_dropped.drop(labels=[\"case\", \"age\"], axis=1)\n",
        "df_y = df_nans_dropped[[\"age\"]]\n",
        "\n",
        "print(df_x.shape, df_y.shape)"
      ],
      "metadata": {
        "colab": {
          "base_uri": "https://localhost:8080/"
        },
        "id": "YHj5cq43x8iz",
        "outputId": "62d5363a-8e04-42b9-e3a1-b177d729be32"
      },
      "execution_count": 392,
      "outputs": [
        {
          "output_type": "stream",
          "name": "stdout",
          "text": [
            "(101, 12) (101, 1)\n"
          ]
        }
      ]
    },
    {
      "cell_type": "code",
      "source": [
        "from sklearn.model_selection import train_test_split\n",
        "\n",
        "x_train, x_test, y_train, y_test = train_test_split(df_x, df_y, train_size=0.8)\n",
        "\n",
        "print(x_train.shape, x_test.shape, y_train.shape, y_test.shape)"
      ],
      "metadata": {
        "colab": {
          "base_uri": "https://localhost:8080/"
        },
        "id": "YGyKHO8e6K1G",
        "outputId": "ecd27faf-bfc8-421b-f6aa-3f96d0a8ca1a"
      },
      "execution_count": 393,
      "outputs": [
        {
          "output_type": "stream",
          "name": "stdout",
          "text": [
            "(80, 12) (21, 12) (80, 1) (21, 1)\n"
          ]
        }
      ]
    },
    {
      "cell_type": "code",
      "source": [
        "from sklearn.preprocessing import StandardScaler\n",
        "\n",
        "scaler = StandardScaler()\n",
        "\n",
        "x_train_nrm = scaler.fit_transform(x_train)\n",
        "x_test_nrm = scaler.transform(x_test)"
      ],
      "metadata": {
        "id": "JpIMa-QoycmP"
      },
      "execution_count": 394,
      "outputs": []
    },
    {
      "cell_type": "code",
      "source": [
        "y_train = y_train.values\n",
        "y_test = y_test.values"
      ],
      "metadata": {
        "id": "p0dfbXbRysxb"
      },
      "execution_count": 395,
      "outputs": []
    },
    {
      "cell_type": "code",
      "source": [
        "from keras.models import Sequential\n",
        "from keras.layers import Dense\n",
        "\n",
        "model = Sequential()\n",
        "\n",
        "model.add(Dense(128, activation='relu', input_shape=x_train.shape[1:]))\n",
        "\n",
        "model.add(Dense(16, activation='relu'))\n",
        "\n",
        "model.add(Dense(1, 'linear'))\n"
      ],
      "metadata": {
        "id": "TnfVlxcIzZrB"
      },
      "execution_count": 424,
      "outputs": []
    },
    {
      "cell_type": "code",
      "source": [
        "model.compile(optimizer='adam', loss='mse')"
      ],
      "metadata": {
        "id": "m95kAJ3Y57rm"
      },
      "execution_count": 425,
      "outputs": []
    },
    {
      "cell_type": "code",
      "source": [
        "results = model.fit(x_train_nrm, y_train, epochs=32, validation_data=(x_test_nrm, y_test))"
      ],
      "metadata": {
        "colab": {
          "base_uri": "https://localhost:8080/"
        },
        "id": "UHwTo44liU6q",
        "outputId": "9fe25720-fd65-4ff0-a54b-a1781ac10a80"
      },
      "execution_count": 426,
      "outputs": [
        {
          "output_type": "stream",
          "name": "stdout",
          "text": [
            "Epoch 1/32\n",
            "3/3 [==============================] - 1s 89ms/step - loss: 20.1051 - val_loss: 25.3120\n",
            "Epoch 2/32\n",
            "3/3 [==============================] - 0s 29ms/step - loss: 18.1240 - val_loss: 23.2105\n",
            "Epoch 3/32\n",
            "3/3 [==============================] - 0s 20ms/step - loss: 16.5143 - val_loss: 21.3821\n",
            "Epoch 4/32\n",
            "3/3 [==============================] - 0s 19ms/step - loss: 15.1353 - val_loss: 19.7371\n",
            "Epoch 5/32\n",
            "3/3 [==============================] - 0s 23ms/step - loss: 13.9250 - val_loss: 18.2156\n",
            "Epoch 6/32\n",
            "3/3 [==============================] - 0s 20ms/step - loss: 12.8312 - val_loss: 16.8179\n",
            "Epoch 7/32\n",
            "3/3 [==============================] - 0s 22ms/step - loss: 11.8784 - val_loss: 15.5153\n",
            "Epoch 8/32\n",
            "3/3 [==============================] - 0s 21ms/step - loss: 11.0247 - val_loss: 14.3196\n",
            "Epoch 9/32\n",
            "3/3 [==============================] - 0s 24ms/step - loss: 10.1721 - val_loss: 13.2191\n",
            "Epoch 10/32\n",
            "3/3 [==============================] - 0s 33ms/step - loss: 9.3617 - val_loss: 12.1727\n",
            "Epoch 11/32\n",
            "3/3 [==============================] - 0s 26ms/step - loss: 8.6246 - val_loss: 11.1736\n",
            "Epoch 12/32\n",
            "3/3 [==============================] - 0s 18ms/step - loss: 7.9062 - val_loss: 10.2147\n",
            "Epoch 13/32\n",
            "3/3 [==============================] - 0s 17ms/step - loss: 7.2510 - val_loss: 9.3348\n",
            "Epoch 14/32\n",
            "3/3 [==============================] - 0s 18ms/step - loss: 6.6387 - val_loss: 8.5274\n",
            "Epoch 15/32\n",
            "3/3 [==============================] - 0s 18ms/step - loss: 6.1031 - val_loss: 7.7961\n",
            "Epoch 16/32\n",
            "3/3 [==============================] - 0s 21ms/step - loss: 5.6175 - val_loss: 7.1613\n",
            "Epoch 17/32\n",
            "3/3 [==============================] - 0s 18ms/step - loss: 5.1853 - val_loss: 6.6116\n",
            "Epoch 18/32\n",
            "3/3 [==============================] - 0s 18ms/step - loss: 4.9075 - val_loss: 6.1412\n",
            "Epoch 19/32\n",
            "3/3 [==============================] - 0s 26ms/step - loss: 4.5808 - val_loss: 5.7711\n",
            "Epoch 20/32\n",
            "3/3 [==============================] - 0s 30ms/step - loss: 4.3621 - val_loss: 5.4672\n",
            "Epoch 21/32\n",
            "3/3 [==============================] - 0s 17ms/step - loss: 4.1924 - val_loss: 5.2162\n",
            "Epoch 22/32\n",
            "3/3 [==============================] - 0s 17ms/step - loss: 4.0464 - val_loss: 5.0189\n",
            "Epoch 23/32\n",
            "3/3 [==============================] - 0s 19ms/step - loss: 3.9189 - val_loss: 4.8594\n",
            "Epoch 24/32\n",
            "3/3 [==============================] - 0s 18ms/step - loss: 3.7906 - val_loss: 4.7354\n",
            "Epoch 25/32\n",
            "3/3 [==============================] - 0s 19ms/step - loss: 3.6799 - val_loss: 4.6323\n",
            "Epoch 26/32\n",
            "3/3 [==============================] - 0s 19ms/step - loss: 3.5815 - val_loss: 4.5532\n",
            "Epoch 27/32\n",
            "3/3 [==============================] - 0s 18ms/step - loss: 3.4772 - val_loss: 4.5157\n",
            "Epoch 28/32\n",
            "3/3 [==============================] - 0s 20ms/step - loss: 3.3788 - val_loss: 4.5024\n",
            "Epoch 29/32\n",
            "3/3 [==============================] - 0s 20ms/step - loss: 3.2903 - val_loss: 4.4924\n",
            "Epoch 30/32\n",
            "3/3 [==============================] - 0s 17ms/step - loss: 3.2112 - val_loss: 4.4669\n",
            "Epoch 31/32\n",
            "3/3 [==============================] - 0s 18ms/step - loss: 3.1254 - val_loss: 4.4277\n",
            "Epoch 32/32\n",
            "3/3 [==============================] - 0s 21ms/step - loss: 3.0618 - val_loss: 4.3771\n"
          ]
        }
      ]
    },
    {
      "cell_type": "code",
      "source": [
        "model.summary()"
      ],
      "metadata": {
        "colab": {
          "base_uri": "https://localhost:8080/"
        },
        "id": "H9ZNdk-ohzRD",
        "outputId": "0349b86a-2776-4727-f739-b36e7b611116"
      },
      "execution_count": 427,
      "outputs": [
        {
          "output_type": "stream",
          "name": "stdout",
          "text": [
            "Model: \"sequential_41\"\n",
            "_________________________________________________________________\n",
            " Layer (type)                Output Shape              Param #   \n",
            "=================================================================\n",
            " dense_157 (Dense)           (None, 128)               1664      \n",
            "                                                                 \n",
            " dense_158 (Dense)           (None, 16)                2064      \n",
            "                                                                 \n",
            " dense_159 (Dense)           (None, 1)                 17        \n",
            "                                                                 \n",
            "=================================================================\n",
            "Total params: 3,745\n",
            "Trainable params: 3,745\n",
            "Non-trainable params: 0\n",
            "_________________________________________________________________\n"
          ]
        }
      ]
    },
    {
      "cell_type": "code",
      "source": [
        "yhat_test = model.predict(x_test_nrm).round()"
      ],
      "metadata": {
        "colab": {
          "base_uri": "https://localhost:8080/"
        },
        "id": "f-nbRq85oKze",
        "outputId": "c9eb3bcb-c9f9-4050-ea31-2d7e3a9e30fb"
      },
      "execution_count": 428,
      "outputs": [
        {
          "output_type": "stream",
          "name": "stdout",
          "text": [
            "1/1 [==============================] - 0s 82ms/step\n"
          ]
        }
      ]
    },
    {
      "cell_type": "code",
      "source": [
        "plt.plot(results.history[\"loss\"], label=\"loss\")\n",
        "plt.plot(results.history[\"val_loss\"], label=\"val_loss\")\n",
        "\n",
        "plt.legend()"
      ],
      "metadata": {
        "colab": {
          "base_uri": "https://localhost:8080/",
          "height": 448
        },
        "id": "ob6PFlNbDsNn",
        "outputId": "ed838a0e-14b6-4dfd-b5c6-baa424b637a5"
      },
      "execution_count": 429,
      "outputs": [
        {
          "output_type": "execute_result",
          "data": {
            "text/plain": [
              "<matplotlib.legend.Legend at 0x7bdad88f2a70>"
            ]
          },
          "metadata": {},
          "execution_count": 429
        },
        {
          "output_type": "display_data",
          "data": {
            "text/plain": [
              "<Figure size 640x480 with 1 Axes>"
            ],
            "image/png": "[encoded data removed]"
          },
          "metadata": {}
        }
      ]
    },
    {
      "cell_type": "code",
      "source": [
        "plt.scatter(y_test, yhat_test)"
      ],
      "metadata": {
        "colab": {
          "base_uri": "https://localhost:8080/",
          "height": 448
        },
        "id": "DmGiBNEZoTTY",
        "outputId": "2daaf082-772c-475f-c4ea-af9a4a0ff27a"
      },
      "execution_count": 430,
      "outputs": [
        {
          "output_type": "execute_result",
          "data": {
            "text/plain": [
              "<matplotlib.collections.PathCollection at 0x7bdae9882200>"
            ]
          },
          "metadata": {},
          "execution_count": 430
        },
        {
          "output_type": "display_data",
          "data": {
            "text/plain": [
              "<Figure size 640x480 with 1 Axes>"
            ],
            "image/png": "[encoded data removed]"
          },
          "metadata": {}
        }
      ]
    },
    {
      "cell_type": "code",
      "source": [
        "model1 = Sequential()\n",
        "\n",
        "model1.add(Dense(128, activation='tanh', input_shape=x_train.shape[1:]))\n",
        "\n",
        "model1.add(Dense(16, activation='relu'))\n",
        "\n",
        "model1.add(Dense(1, 'linear'))"
      ],
      "metadata": {
        "id": "P7vndgDgJM3l"
      },
      "execution_count": 452,
      "outputs": []
    },
    {
      "cell_type": "code",
      "source": [
        "model1.compile(optimizer='adam', loss='mse')"
      ],
      "metadata": {
        "id": "MPl2TZ6tJTwf"
      },
      "execution_count": 453,
      "outputs": []
    },
    {
      "cell_type": "code",
      "source": [
        "results1 = model1.fit(x_train_nrm, y_train, epochs=32, validation_data=(x_test_nrm, y_test))"
      ],
      "metadata": {
        "colab": {
          "base_uri": "https://localhost:8080/"
        },
        "id": "yfiK4-k2JWnK",
        "outputId": "67042cca-fef1-40d1-a91d-c2867f2ce2fa"
      },
      "execution_count": 454,
      "outputs": [
        {
          "output_type": "stream",
          "name": "stdout",
          "text": [
            "Epoch 1/32\n",
            "3/3 [==============================] - 1s 76ms/step - loss: 17.5857 - val_loss: 23.2722\n",
            "Epoch 2/32\n",
            "3/3 [==============================] - 0s 16ms/step - loss: 16.2700 - val_loss: 21.6373\n",
            "Epoch 3/32\n",
            "3/3 [==============================] - 0s 17ms/step - loss: 15.1129 - val_loss: 20.2432\n",
            "Epoch 4/32\n",
            "3/3 [==============================] - 0s 26ms/step - loss: 14.1121 - val_loss: 18.9285\n",
            "Epoch 5/32\n",
            "3/3 [==============================] - 0s 18ms/step - loss: 13.1891 - val_loss: 17.7501\n",
            "Epoch 6/32\n",
            "3/3 [==============================] - 0s 22ms/step - loss: 12.3882 - val_loss: 16.6305\n",
            "Epoch 7/32\n",
            "3/3 [==============================] - 0s 27ms/step - loss: 11.6134 - val_loss: 15.5646\n",
            "Epoch 8/32\n",
            "3/3 [==============================] - 0s 27ms/step - loss: 10.8933 - val_loss: 14.5090\n",
            "Epoch 9/32\n",
            "3/3 [==============================] - 0s 20ms/step - loss: 10.2664 - val_loss: 13.4795\n",
            "Epoch 10/32\n",
            "3/3 [==============================] - 0s 20ms/step - loss: 9.5912 - val_loss: 12.5704\n",
            "Epoch 11/32\n",
            "3/3 [==============================] - 0s 20ms/step - loss: 8.9582 - val_loss: 11.7733\n",
            "Epoch 12/32\n",
            "3/3 [==============================] - 0s 21ms/step - loss: 8.4086 - val_loss: 11.0212\n",
            "Epoch 13/32\n",
            "3/3 [==============================] - 0s 22ms/step - loss: 7.9031 - val_loss: 10.3284\n",
            "Epoch 14/32\n",
            "3/3 [==============================] - 0s 21ms/step - loss: 7.3943 - val_loss: 9.6688\n",
            "Epoch 15/32\n",
            "3/3 [==============================] - 0s 20ms/step - loss: 6.9492 - val_loss: 9.0464\n",
            "Epoch 16/32\n",
            "3/3 [==============================] - 0s 19ms/step - loss: 6.5182 - val_loss: 8.4690\n",
            "Epoch 17/32\n",
            "3/3 [==============================] - 0s 24ms/step - loss: 6.1346 - val_loss: 7.9320\n",
            "Epoch 18/32\n",
            "3/3 [==============================] - 0s 24ms/step - loss: 5.7624 - val_loss: 7.4393\n",
            "Epoch 19/32\n",
            "3/3 [==============================] - 0s 20ms/step - loss: 5.3819 - val_loss: 6.9923\n",
            "Epoch 20/32\n",
            "3/3 [==============================] - 0s 19ms/step - loss: 5.0313 - val_loss: 6.5623\n",
            "Epoch 21/32\n",
            "3/3 [==============================] - 0s 20ms/step - loss: 4.6925 - val_loss: 6.1904\n",
            "Epoch 22/32\n",
            "3/3 [==============================] - 0s 20ms/step - loss: 4.3909 - val_loss: 5.8313\n",
            "Epoch 23/32\n",
            "3/3 [==============================] - 0s 19ms/step - loss: 4.0945 - val_loss: 5.5273\n",
            "Epoch 24/32\n",
            "3/3 [==============================] - 0s 19ms/step - loss: 3.8398 - val_loss: 5.2315\n",
            "Epoch 25/32\n",
            "3/3 [==============================] - 0s 18ms/step - loss: 3.6281 - val_loss: 5.0052\n",
            "Epoch 26/32\n",
            "3/3 [==============================] - 0s 16ms/step - loss: 3.4477 - val_loss: 4.7794\n",
            "Epoch 27/32\n",
            "3/3 [==============================] - 0s 18ms/step - loss: 3.3176 - val_loss: 4.5889\n",
            "Epoch 28/32\n",
            "3/3 [==============================] - 0s 17ms/step - loss: 3.2263 - val_loss: 4.4240\n",
            "Epoch 29/32\n",
            "3/3 [==============================] - 0s 17ms/step - loss: 3.1275 - val_loss: 4.3093\n",
            "Epoch 30/32\n",
            "3/3 [==============================] - 0s 18ms/step - loss: 3.0556 - val_loss: 4.2476\n",
            "Epoch 31/32\n",
            "3/3 [==============================] - 0s 20ms/step - loss: 2.9894 - val_loss: 4.2317\n",
            "Epoch 32/32\n",
            "3/3 [==============================] - 0s 16ms/step - loss: 2.9376 - val_loss: 4.2320\n"
          ]
        }
      ]
    },
    {
      "cell_type": "code",
      "source": [
        "model1.summary()"
      ],
      "metadata": {
        "colab": {
          "base_uri": "https://localhost:8080/"
        },
        "id": "TCp4Jn3mJjDg",
        "outputId": "21c70ccf-bf38-4a40-9b79-330f659181ca"
      },
      "execution_count": 455,
      "outputs": [
        {
          "output_type": "stream",
          "name": "stdout",
          "text": [
            "Model: \"sequential_45\"\n",
            "_________________________________________________________________\n",
            " Layer (type)                Output Shape              Param #   \n",
            "=================================================================\n",
            " dense_172 (Dense)           (None, 128)               1664      \n",
            "                                                                 \n",
            " dense_173 (Dense)           (None, 16)                2064      \n",
            "                                                                 \n",
            " dense_174 (Dense)           (None, 1)                 17        \n",
            "                                                                 \n",
            "=================================================================\n",
            "Total params: 3,745\n",
            "Trainable params: 3,745\n",
            "Non-trainable params: 0\n",
            "_________________________________________________________________\n"
          ]
        }
      ]
    },
    {
      "cell_type": "code",
      "source": [
        "yhat_test1 = model1.predict(x_test_nrm).round()"
      ],
      "metadata": {
        "colab": {
          "base_uri": "https://localhost:8080/"
        },
        "id": "G2Uq_isPJnXt",
        "outputId": "c2d6eacf-9c69-44ce-aec1-73366d2bb208"
      },
      "execution_count": 456,
      "outputs": [
        {
          "output_type": "stream",
          "name": "stdout",
          "text": [
            "1/1 [==============================] - 0s 91ms/step\n"
          ]
        }
      ]
    },
    {
      "cell_type": "code",
      "source": [
        "plt.plot(results1.history[\"loss\"], label=\"loss\")\n",
        "plt.plot(results1.history[\"val_loss\"], label=\"val_loss\")\n",
        "\n",
        "plt.legend()"
      ],
      "metadata": {
        "colab": {
          "base_uri": "https://localhost:8080/",
          "height": 448
        },
        "id": "sRytPv1-Jqzb",
        "outputId": "12f1a22a-450e-4b6b-92f3-d5cc6c961df7"
      },
      "execution_count": 457,
      "outputs": [
        {
          "output_type": "execute_result",
          "data": {
            "text/plain": [
              "<matplotlib.legend.Legend at 0x7bdac43ddd50>"
            ]
          },
          "metadata": {},
          "execution_count": 457
        },
        {
          "output_type": "display_data",
          "data": {
            "text/plain": [
              "<Figure size 640x480 with 1 Axes>"
            ],
            "image/png": "[encoded data removed]"
          },
          "metadata": {}
        }
      ]
    },
    {
      "cell_type": "code",
      "source": [
        "plt.scatter(y_test, yhat_test1)"
      ],
      "metadata": {
        "colab": {
          "base_uri": "https://localhost:8080/",
          "height": 448
        },
        "id": "htNWzrsxJvWJ",
        "outputId": "08ae6639-6c5a-43db-a950-355772f37c3e"
      },
      "execution_count": 458,
      "outputs": [
        {
          "output_type": "execute_result",
          "data": {
            "text/plain": [
              "<matplotlib.collections.PathCollection at 0x7bdaccf71750>"
            ]
          },
          "metadata": {},
          "execution_count": 458
        },
        {
          "output_type": "display_data",
          "data": {
            "text/plain": [
              "<Figure size 640x480 with 1 Axes>"
            ],
            "image/png": "[encoded data removed]"
          },
          "metadata": {}
        }
      ]
    },
    {
      "cell_type": "code",
      "source": [
        "model2 = Sequential()\n",
        "\n",
        "model2.add(Dense(128, activation='tanh', input_shape=x_train.shape[1:]))\n",
        "\n",
        "model2.add(Dense(64, activation='tanh'))\n",
        "\n",
        "model2.add(Dense(16, activation='relu'))\n",
        "\n",
        "model2.add(Dense(1, 'linear'))"
      ],
      "metadata": {
        "id": "uOZX7myGKRCa"
      },
      "execution_count": 459,
      "outputs": []
    },
    {
      "cell_type": "code",
      "source": [
        "model2.compile(optimizer='adam', loss='mse')"
      ],
      "metadata": {
        "id": "vDa9hRd3KYxF"
      },
      "execution_count": 460,
      "outputs": []
    },
    {
      "cell_type": "code",
      "source": [
        "results2 = model2.fit(x_train_nrm, y_train, epochs=32, validation_data=(x_test_nrm, y_test))"
      ],
      "metadata": {
        "colab": {
          "base_uri": "https://localhost:8080/"
        },
        "id": "fYZDGM4lKdWM",
        "outputId": "61303f1e-1936-4a3d-d16d-aaccea4b01a2"
      },
      "execution_count": 461,
      "outputs": [
        {
          "output_type": "stream",
          "name": "stdout",
          "text": [
            "Epoch 1/32\n",
            "3/3 [==============================] - 2s 152ms/step - loss: 14.1367 - val_loss: 17.9217\n",
            "Epoch 2/32\n",
            "3/3 [==============================] - 0s 30ms/step - loss: 11.9367 - val_loss: 15.3836\n",
            "Epoch 3/32\n",
            "3/3 [==============================] - 0s 27ms/step - loss: 10.1719 - val_loss: 13.2076\n",
            "Epoch 4/32\n",
            "3/3 [==============================] - 0s 23ms/step - loss: 8.6340 - val_loss: 11.4226\n",
            "Epoch 5/32\n",
            "3/3 [==============================] - 0s 25ms/step - loss: 7.4176 - val_loss: 9.9354\n",
            "Epoch 6/32\n",
            "3/3 [==============================] - 0s 34ms/step - loss: 6.3832 - val_loss: 8.6761\n",
            "Epoch 7/32\n",
            "3/3 [==============================] - 0s 25ms/step - loss: 5.5424 - val_loss: 7.5430\n",
            "Epoch 8/32\n",
            "3/3 [==============================] - 0s 24ms/step - loss: 4.8748 - val_loss: 6.5474\n",
            "Epoch 9/32\n",
            "3/3 [==============================] - 0s 26ms/step - loss: 4.3333 - val_loss: 5.7215\n",
            "Epoch 10/32\n",
            "3/3 [==============================] - 0s 33ms/step - loss: 3.9101 - val_loss: 5.0788\n",
            "Epoch 11/32\n",
            "3/3 [==============================] - 0s 31ms/step - loss: 3.5326 - val_loss: 4.6155\n",
            "Epoch 12/32\n",
            "3/3 [==============================] - 0s 24ms/step - loss: 3.2922 - val_loss: 4.2477\n",
            "Epoch 13/32\n",
            "3/3 [==============================] - 0s 23ms/step - loss: 3.0304 - val_loss: 3.9919\n",
            "Epoch 14/32\n",
            "3/3 [==============================] - 0s 23ms/step - loss: 2.9264 - val_loss: 3.7896\n",
            "Epoch 15/32\n",
            "3/3 [==============================] - 0s 31ms/step - loss: 2.7823 - val_loss: 3.6804\n",
            "Epoch 16/32\n",
            "3/3 [==============================] - 0s 25ms/step - loss: 2.6822 - val_loss: 3.6282\n",
            "Epoch 17/32\n",
            "3/3 [==============================] - 0s 18ms/step - loss: 2.5777 - val_loss: 3.6106\n",
            "Epoch 18/32\n",
            "3/3 [==============================] - 0s 17ms/step - loss: 2.4684 - val_loss: 3.5545\n",
            "Epoch 19/32\n",
            "3/3 [==============================] - 0s 18ms/step - loss: 2.3807 - val_loss: 3.5267\n",
            "Epoch 20/32\n",
            "3/3 [==============================] - 0s 18ms/step - loss: 2.2869 - val_loss: 3.5010\n",
            "Epoch 21/32\n",
            "3/3 [==============================] - 0s 17ms/step - loss: 2.2294 - val_loss: 3.4843\n",
            "Epoch 22/32\n",
            "3/3 [==============================] - 0s 17ms/step - loss: 2.1570 - val_loss: 3.4831\n",
            "Epoch 23/32\n",
            "3/3 [==============================] - 0s 17ms/step - loss: 2.1057 - val_loss: 3.4585\n",
            "Epoch 24/32\n",
            "3/3 [==============================] - 0s 19ms/step - loss: 2.0456 - val_loss: 3.4366\n",
            "Epoch 25/32\n",
            "3/3 [==============================] - 0s 27ms/step - loss: 1.9984 - val_loss: 3.4388\n",
            "Epoch 26/32\n",
            "3/3 [==============================] - 0s 18ms/step - loss: 1.9416 - val_loss: 3.4685\n",
            "Epoch 27/32\n",
            "3/3 [==============================] - 0s 17ms/step - loss: 1.8982 - val_loss: 3.5037\n",
            "Epoch 28/32\n",
            "3/3 [==============================] - 0s 19ms/step - loss: 1.8496 - val_loss: 3.4734\n",
            "Epoch 29/32\n",
            "3/3 [==============================] - 0s 19ms/step - loss: 1.7962 - val_loss: 3.4608\n",
            "Epoch 30/32\n",
            "3/3 [==============================] - 0s 18ms/step - loss: 1.7621 - val_loss: 3.4417\n",
            "Epoch 31/32\n",
            "3/3 [==============================] - 0s 17ms/step - loss: 1.7297 - val_loss: 3.4568\n",
            "Epoch 32/32\n",
            "3/3 [==============================] - 0s 18ms/step - loss: 1.6798 - val_loss: 3.4485\n"
          ]
        }
      ]
    },
    {
      "cell_type": "code",
      "source": [
        "model2.summary()"
      ],
      "metadata": {
        "colab": {
          "base_uri": "https://localhost:8080/"
        },
        "id": "OHo8ayhyKgkK",
        "outputId": "a0241f20-06ae-4a10-89b7-fcfcb86051d9"
      },
      "execution_count": 462,
      "outputs": [
        {
          "output_type": "stream",
          "name": "stdout",
          "text": [
            "Model: \"sequential_46\"\n",
            "_________________________________________________________________\n",
            " Layer (type)                Output Shape              Param #   \n",
            "=================================================================\n",
            " dense_175 (Dense)           (None, 128)               1664      \n",
            "                                                                 \n",
            " dense_176 (Dense)           (None, 64)                8256      \n",
            "                                                                 \n",
            " dense_177 (Dense)           (None, 16)                1040      \n",
            "                                                                 \n",
            " dense_178 (Dense)           (None, 1)                 17        \n",
            "                                                                 \n",
            "=================================================================\n",
            "Total params: 10,977\n",
            "Trainable params: 10,977\n",
            "Non-trainable params: 0\n",
            "_________________________________________________________________\n"
          ]
        }
      ]
    },
    {
      "cell_type": "code",
      "source": [
        "yhat_test2 = model2.predict(x_test_nrm).round()"
      ],
      "metadata": {
        "colab": {
          "base_uri": "https://localhost:8080/"
        },
        "id": "7MZTur3FKjcs",
        "outputId": "f4f01a69-ce03-49ca-e1a7-e0127854285d"
      },
      "execution_count": 463,
      "outputs": [
        {
          "output_type": "stream",
          "name": "stdout",
          "text": [
            "1/1 [==============================] - 0s 80ms/step\n"
          ]
        }
      ]
    },
    {
      "cell_type": "code",
      "source": [
        "plt.plot(results2.history[\"loss\"], label=\"loss\")\n",
        "plt.plot(results2.history[\"val_loss\"], label=\"val_loss\")\n",
        "\n",
        "plt.legend()"
      ],
      "metadata": {
        "colab": {
          "base_uri": "https://localhost:8080/",
          "height": 448
        },
        "id": "oiXCxu51KmEA",
        "outputId": "d80eed57-1dbc-4f25-abcc-6c9eae903833"
      },
      "execution_count": 464,
      "outputs": [
        {
          "output_type": "execute_result",
          "data": {
            "text/plain": [
              "<matplotlib.legend.Legend at 0x7bdaccd75cf0>"
            ]
          },
          "metadata": {},
          "execution_count": 464
        },
        {
          "output_type": "display_data",
          "data": {
            "text/plain": [
              "<Figure size 640x480 with 1 Axes>"
            ],
            "image/png": "[encoded data removed]"
          },
          "metadata": {}
        }
      ]
    },
    {
      "cell_type": "code",
      "source": [
        "plt.scatter(y_test, yhat_test2)"
      ],
      "metadata": {
        "colab": {
          "base_uri": "https://localhost:8080/",
          "height": 448
        },
        "id": "liyo7F0rKn9r",
        "outputId": "a7bcc1ce-ac16-42d5-d062-cf1f9b755bfd"
      },
      "execution_count": 444,
      "outputs": [
        {
          "output_type": "execute_result",
          "data": {
            "text/plain": [
              "<matplotlib.collections.PathCollection at 0x7bdad1eb7490>"
            ]
          },
          "metadata": {},
          "execution_count": 444
        },
        {
          "output_type": "display_data",
          "data": {
            "text/plain": [
              "<Figure size 640x480 with 1 Axes>"
            ],
            "image/png": "[encoded data removed]"
          },
          "metadata": {}
        }
      ]
    },
    {
      "cell_type": "code",
      "source": [
        "model3 = Sequential()\n",
        "\n",
        "model3.add(Dense(128, activation='tanh', input_shape=x_train.shape[1:]))\n",
        "\n",
        "model3.add(Dense(64, activation='tanh'))\n",
        "\n",
        "model3.add(Dense(32, activation='tanh'))\n",
        "\n",
        "model3.add(Dense(16, activation='tanh'))\n",
        "\n",
        "model3.add(Dense(1, 'linear'))"
      ],
      "metadata": {
        "id": "vUb7LIBwK0lU"
      },
      "execution_count": 445,
      "outputs": []
    },
    {
      "cell_type": "code",
      "source": [
        "model3.compile(optimizer='adam', loss='mse')"
      ],
      "metadata": {
        "id": "gUdnCtZcK9JO"
      },
      "execution_count": 446,
      "outputs": []
    },
    {
      "cell_type": "code",
      "source": [
        "results3 = model3.fit(x_train_nrm, y_train, epochs=32, validation_data=(x_test_nrm, y_test))"
      ],
      "metadata": {
        "colab": {
          "base_uri": "https://localhost:8080/"
        },
        "id": "vydvmuMDK_17",
        "outputId": "2c88a0ac-f233-4d76-8d51-09ef45c85050"
      },
      "execution_count": 447,
      "outputs": [
        {
          "output_type": "stream",
          "name": "stdout",
          "text": [
            "Epoch 1/32\n",
            "3/3 [==============================] - 4s 192ms/step - loss: 16.6546 - val_loss: 21.5888\n",
            "Epoch 2/32\n",
            "3/3 [==============================] - 0s 51ms/step - loss: 15.6472 - val_loss: 20.7621\n",
            "Epoch 3/32\n",
            "3/3 [==============================] - 0s 47ms/step - loss: 14.8981 - val_loss: 20.1576\n",
            "Epoch 4/32\n",
            "3/3 [==============================] - 0s 71ms/step - loss: 14.1684 - val_loss: 19.2527\n",
            "Epoch 5/32\n",
            "3/3 [==============================] - 0s 37ms/step - loss: 13.4342 - val_loss: 18.4064\n",
            "Epoch 6/32\n",
            "3/3 [==============================] - 0s 37ms/step - loss: 12.6505 - val_loss: 17.5286\n",
            "Epoch 7/32\n",
            "3/3 [==============================] - 0s 70ms/step - loss: 11.7391 - val_loss: 16.7847\n",
            "Epoch 8/32\n",
            "3/3 [==============================] - 0s 72ms/step - loss: 10.7661 - val_loss: 15.7461\n",
            "Epoch 9/32\n",
            "3/3 [==============================] - 0s 85ms/step - loss: 9.6809 - val_loss: 14.5243\n",
            "Epoch 10/32\n",
            "3/3 [==============================] - 0s 61ms/step - loss: 8.4143 - val_loss: 13.0641\n",
            "Epoch 11/32\n",
            "3/3 [==============================] - 0s 61ms/step - loss: 7.1927 - val_loss: 11.1862\n",
            "Epoch 12/32\n",
            "3/3 [==============================] - 0s 47ms/step - loss: 5.9333 - val_loss: 9.4361\n",
            "Epoch 13/32\n",
            "3/3 [==============================] - 0s 62ms/step - loss: 4.7953 - val_loss: 8.0580\n",
            "Epoch 14/32\n",
            "3/3 [==============================] - 0s 41ms/step - loss: 3.8190 - val_loss: 7.0071\n",
            "Epoch 15/32\n",
            "3/3 [==============================] - 0s 57ms/step - loss: 3.1931 - val_loss: 5.9641\n",
            "Epoch 16/32\n",
            "3/3 [==============================] - 0s 27ms/step - loss: 2.8083 - val_loss: 5.0720\n",
            "Epoch 17/32\n",
            "3/3 [==============================] - 0s 28ms/step - loss: 2.4843 - val_loss: 4.5496\n",
            "Epoch 18/32\n",
            "3/3 [==============================] - 0s 36ms/step - loss: 2.3458 - val_loss: 4.2252\n",
            "Epoch 19/32\n",
            "3/3 [==============================] - 0s 26ms/step - loss: 2.2878 - val_loss: 4.0378\n",
            "Epoch 20/32\n",
            "3/3 [==============================] - 0s 58ms/step - loss: 2.2316 - val_loss: 3.9423\n",
            "Epoch 21/32\n",
            "3/3 [==============================] - 0s 33ms/step - loss: 2.2031 - val_loss: 3.8942\n",
            "Epoch 22/32\n",
            "3/3 [==============================] - 0s 26ms/step - loss: 2.1810 - val_loss: 3.8965\n",
            "Epoch 23/32\n",
            "3/3 [==============================] - 0s 31ms/step - loss: 2.1397 - val_loss: 3.9269\n",
            "Epoch 24/32\n",
            "3/3 [==============================] - 0s 57ms/step - loss: 2.0981 - val_loss: 3.9926\n",
            "Epoch 25/32\n",
            "3/3 [==============================] - 0s 43ms/step - loss: 2.0403 - val_loss: 4.0760\n",
            "Epoch 26/32\n",
            "3/3 [==============================] - 0s 38ms/step - loss: 1.9933 - val_loss: 4.1770\n",
            "Epoch 27/32\n",
            "3/3 [==============================] - 0s 27ms/step - loss: 1.9307 - val_loss: 4.3034\n",
            "Epoch 28/32\n",
            "3/3 [==============================] - 0s 17ms/step - loss: 1.8893 - val_loss: 4.5184\n",
            "Epoch 29/32\n",
            "3/3 [==============================] - 0s 21ms/step - loss: 1.8541 - val_loss: 4.6843\n",
            "Epoch 30/32\n",
            "3/3 [==============================] - 0s 17ms/step - loss: 1.8053 - val_loss: 4.7526\n",
            "Epoch 31/32\n",
            "3/3 [==============================] - 0s 17ms/step - loss: 1.7649 - val_loss: 4.7776\n",
            "Epoch 32/32\n",
            "3/3 [==============================] - 0s 17ms/step - loss: 1.7287 - val_loss: 4.7560\n"
          ]
        }
      ]
    },
    {
      "cell_type": "code",
      "source": [
        "model3.summary()"
      ],
      "metadata": {
        "colab": {
          "base_uri": "https://localhost:8080/"
        },
        "id": "5e0pX0egLCk_",
        "outputId": "16fb47a2-2fe3-4d43-d5b7-99808b5799b4"
      },
      "execution_count": 448,
      "outputs": [
        {
          "output_type": "stream",
          "name": "stdout",
          "text": [
            "Model: \"sequential_44\"\n",
            "_________________________________________________________________\n",
            " Layer (type)                Output Shape              Param #   \n",
            "=================================================================\n",
            " dense_167 (Dense)           (None, 128)               1664      \n",
            "                                                                 \n",
            " dense_168 (Dense)           (None, 64)                8256      \n",
            "                                                                 \n",
            " dense_169 (Dense)           (None, 32)                2080      \n",
            "                                                                 \n",
            " dense_170 (Dense)           (None, 16)                528       \n",
            "                                                                 \n",
            " dense_171 (Dense)           (None, 1)                 17        \n",
            "                                                                 \n",
            "=================================================================\n",
            "Total params: 12,545\n",
            "Trainable params: 12,545\n",
            "Non-trainable params: 0\n",
            "_________________________________________________________________\n"
          ]
        }
      ]
    },
    {
      "cell_type": "code",
      "source": [
        "yhat_test3 = model3.predict(x_test_nrm).round()"
      ],
      "metadata": {
        "colab": {
          "base_uri": "https://localhost:8080/"
        },
        "id": "-arGFm4oMuOW",
        "outputId": "964d71dd-8390-475d-ff70-f23ea5d2098f"
      },
      "execution_count": 449,
      "outputs": [
        {
          "output_type": "stream",
          "name": "stdout",
          "text": [
            "1/1 [==============================] - 0s 86ms/step\n"
          ]
        }
      ]
    },
    {
      "cell_type": "code",
      "source": [
        "plt.plot(results3.history[\"loss\"], label=\"loss\")\n",
        "plt.plot(results3.history[\"val_loss\"], label=\"val_loss\")\n",
        "\n",
        "plt.legend()"
      ],
      "metadata": {
        "colab": {
          "base_uri": "https://localhost:8080/",
          "height": 452
        },
        "id": "8q1LkjgILFMS",
        "outputId": "78140846-0dd7-450d-d5fb-4053ca3d43a6"
      },
      "execution_count": 450,
      "outputs": [
        {
          "output_type": "execute_result",
          "data": {
            "text/plain": [
              "<matplotlib.legend.Legend at 0x7bdae95edff0>"
            ]
          },
          "metadata": {},
          "execution_count": 450
        },
        {
          "output_type": "display_data",
          "data": {
            "text/plain": [
              "<Figure size 640x480 with 1 Axes>"
            ],
            "image/png": "[encoded data removed]"
          },
          "metadata": {}
        }
      ]
    },
    {
      "cell_type": "code",
      "source": [
        "plt.scatter(y_test, yhat_test3)"
      ],
      "metadata": {
        "colab": {
          "base_uri": "https://localhost:8080/",
          "height": 448
        },
        "id": "GpG9Wp5jLG9t",
        "outputId": "b4c9dd8c-ac81-4867-b732-c56049a800b6"
      },
      "execution_count": 451,
      "outputs": [
        {
          "output_type": "execute_result",
          "data": {
            "text/plain": [
              "<matplotlib.collections.PathCollection at 0x7bdad8a8fca0>"
            ]
          },
          "metadata": {},
          "execution_count": 451
        },
        {
          "output_type": "display_data",
          "data": {
            "text/plain": [
              "<Figure size 640x480 with 1 Axes>"
            ],
            "image/png": "[encoded data removed]"
          },
          "metadata": {}
        }
      ]
    }
  ]
}