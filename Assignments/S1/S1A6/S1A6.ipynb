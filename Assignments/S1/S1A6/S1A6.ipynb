{
  "nbformat": 4,
  "nbformat_minor": 0,
  "metadata": {
    "colab": {
      "provenance": [],
      "mount_file_id": "1KO9jp7hYWiEHJ0GjOCiwRzqUI89oAD95",
      "authorship_tag": "ABX9TyNitsjQe+N/T1TAaXIGTEJp",
      "include_colab_link": true
    },
    "kernelspec": {
      "name": "python3",
      "display_name": "Python 3"
    },
    "language_info": {
      "name": "python"
    }
  },
  "cells": [
    {
      "cell_type": "markdown",
      "metadata": {
        "id": "view-in-github",
        "colab_type": "text"
      },
      "source": [
        "<a href=\"https://colab.research.google.com/github/MohammadPashaee/AI-Super-Course/blob/main/Assignments/S1/S1A6/S1A6.ipynb\" target=\"_parent\"><img src=\"https://colab.research.google.com/assets/colab-badge.svg\" alt=\"Open In Colab\"/></a>"
      ]
    },
    {
      "cell_type": "code",
      "execution_count": null,
      "metadata": {
        "id": "tC89YD5uxXqb"
      },
      "outputs": [],
      "source": [
        "import pandas as pd\n",
        "import numpy as np\n",
        "import matplotlib.pyplot as plt"
      ]
    },
    {
      "cell_type": "code",
      "source": [
        "df = pd.read_csv(\"/content/drive/MyDrive/possum.csv\")"
      ],
      "metadata": {
        "id": "kjt0wT2jxb38"
      },
      "execution_count": null,
      "outputs": []
    },
    {
      "cell_type": "code",
      "source": [
        "df.tail()"
      ],
      "metadata": {
        "colab": {
          "base_uri": "https://localhost:8080/",
          "height": 206
        },
        "id": "Hm_rZilkx1_X",
        "outputId": "7d12ab3c-87d6-4f2a-b031-95d3ad8c564d"
      },
      "execution_count": null,
      "outputs": [
        {
          "output_type": "execute_result",
          "data": {
            "text/plain": [
              "     case  site    Pop sex  age  hdlngth  skullw  totlngth  taill  footlgth  \\\n",
              "99    100     7  other   m  1.0     89.5    56.0      81.5   36.5      66.0   \n",
              "100   101     7  other   m  1.0     88.6    54.7      82.5   39.0      64.4   \n",
              "101   102     7  other   f  6.0     92.4    55.0      89.0   38.0      63.5   \n",
              "102   103     7  other   m  4.0     91.5    55.2      82.5   36.5      62.9   \n",
              "103   104     7  other   f  3.0     93.6    59.9      89.0   40.0      67.6   \n",
              "\n",
              "     earconch   eye  chest  belly  \n",
              "99       46.8  14.8   23.0   27.0  \n",
              "100      48.0  14.0   25.0   33.0  \n",
              "101      45.4  13.0   25.0   30.0  \n",
              "102      45.9  15.4   25.0   29.0  \n",
              "103      46.0  14.8   28.5   33.5  "
            ],
            "text/html": [
              "\n",
              "\n",
              "  <div id=\"df-86e307a0-8cbc-440d-8128-d7d9b57e6528\">\n",
              "    <div class=\"colab-df-container\">\n",
              "      <div>\n",
              "<style scoped>\n",
              "    .dataframe tbody tr th:only-of-type {\n",
              "        vertical-align: middle;\n",
              "    }\n",
              "\n",
              "    .dataframe tbody tr th {\n",
              "        vertical-align: top;\n",
              "    }\n",
              "\n",
              "    .dataframe thead th {\n",
              "        text-align: right;\n",
              "    }\n",
              "</style>\n",
              "<table border=\"1\" class=\"dataframe\">\n",
              "  <thead>\n",
              "    <tr style=\"text-align: right;\">\n",
              "      <th></th>\n",
              "      <th>case</th>\n",
              "      <th>site</th>\n",
              "      <th>Pop</th>\n",
              "      <th>sex</th>\n",
              "      <th>age</th>\n",
              "      <th>hdlngth</th>\n",
              "      <th>skullw</th>\n",
              "      <th>totlngth</th>\n",
              "      <th>taill</th>\n",
              "      <th>footlgth</th>\n",
              "      <th>earconch</th>\n",
              "      <th>eye</th>\n",
              "      <th>chest</th>\n",
              "      <th>belly</th>\n",
              "    </tr>\n",
              "  </thead>\n",
              "  <tbody>\n",
              "    <tr>\n",
              "      <th>99</th>\n",
              "      <td>100</td>\n",
              "      <td>7</td>\n",
              "      <td>other</td>\n",
              "      <td>m</td>\n",
              "      <td>1.0</td>\n",
              "      <td>89.5</td>\n",
              "      <td>56.0</td>\n",
              "      <td>81.5</td>\n",
              "      <td>36.5</td>\n",
              "      <td>66.0</td>\n",
              "      <td>46.8</td>\n",
              "      <td>14.8</td>\n",
              "      <td>23.0</td>\n",
              "      <td>27.0</td>\n",
              "    </tr>\n",
              "    <tr>\n",
              "      <th>100</th>\n",
              "      <td>101</td>\n",
              "      <td>7</td>\n",
              "      <td>other</td>\n",
              "      <td>m</td>\n",
              "      <td>1.0</td>\n",
              "      <td>88.6</td>\n",
              "      <td>54.7</td>\n",
              "      <td>82.5</td>\n",
              "      <td>39.0</td>\n",
              "      <td>64.4</td>\n",
              "      <td>48.0</td>\n",
              "      <td>14.0</td>\n",
              "      <td>25.0</td>\n",
              "      <td>33.0</td>\n",
              "    </tr>\n",
              "    <tr>\n",
              "      <th>101</th>\n",
              "      <td>102</td>\n",
              "      <td>7</td>\n",
              "      <td>other</td>\n",
              "      <td>f</td>\n",
              "      <td>6.0</td>\n",
              "      <td>92.4</td>\n",
              "      <td>55.0</td>\n",
              "      <td>89.0</td>\n",
              "      <td>38.0</td>\n",
              "      <td>63.5</td>\n",
              "      <td>45.4</td>\n",
              "      <td>13.0</td>\n",
              "      <td>25.0</td>\n",
              "      <td>30.0</td>\n",
              "    </tr>\n",
              "    <tr>\n",
              "      <th>102</th>\n",
              "      <td>103</td>\n",
              "      <td>7</td>\n",
              "      <td>other</td>\n",
              "      <td>m</td>\n",
              "      <td>4.0</td>\n",
              "      <td>91.5</td>\n",
              "      <td>55.2</td>\n",
              "      <td>82.5</td>\n",
              "      <td>36.5</td>\n",
              "      <td>62.9</td>\n",
              "      <td>45.9</td>\n",
              "      <td>15.4</td>\n",
              "      <td>25.0</td>\n",
              "      <td>29.0</td>\n",
              "    </tr>\n",
              "    <tr>\n",
              "      <th>103</th>\n",
              "      <td>104</td>\n",
              "      <td>7</td>\n",
              "      <td>other</td>\n",
              "      <td>f</td>\n",
              "      <td>3.0</td>\n",
              "      <td>93.6</td>\n",
              "      <td>59.9</td>\n",
              "      <td>89.0</td>\n",
              "      <td>40.0</td>\n",
              "      <td>67.6</td>\n",
              "      <td>46.0</td>\n",
              "      <td>14.8</td>\n",
              "      <td>28.5</td>\n",
              "      <td>33.5</td>\n",
              "    </tr>\n",
              "  </tbody>\n",
              "</table>\n",
              "</div>\n",
              "      <button class=\"colab-df-convert\" onclick=\"convertToInteractive('df-86e307a0-8cbc-440d-8128-d7d9b57e6528')\"\n",
              "              title=\"Convert this dataframe to an interactive table.\"\n",
              "              style=\"display:none;\">\n",
              "\n",
              "  <svg xmlns=\"http://www.w3.org/2000/svg\" height=\"24px\"viewBox=\"0 0 24 24\"\n",
              "       width=\"24px\">\n",
              "    <path d=\"M0 0h24v24H0V0z\" fill=\"none\"/>\n",
              "    <path d=\"M18.56 5.44l.94 2.06.94-2.06 2.06-.94-2.06-.94-.94-2.06-.94 2.06-2.06.94zm-11 1L8.5 8.5l.94-2.06 2.06-.94-2.06-.94L8.5 2.5l-.94 2.06-2.06.94zm10 10l.94 2.06.94-2.06 2.06-.94-2.06-.94-.94-2.06-.94 2.06-2.06.94z\"/><path d=\"M17.41 7.96l-1.37-1.37c-.4-.4-.92-.59-1.43-.59-.52 0-1.04.2-1.43.59L10.3 9.45l-7.72 7.72c-.78.78-.78 2.05 0 2.83L4 21.41c.39.39.9.59 1.41.59.51 0 1.02-.2 1.41-.59l7.78-7.78 2.81-2.81c.8-.78.8-2.07 0-2.86zM5.41 20L4 18.59l7.72-7.72 1.47 1.35L5.41 20z\"/>\n",
              "  </svg>\n",
              "      </button>\n",
              "\n",
              "\n",
              "\n",
              "    <div id=\"df-4b387338-e923-4801-82e3-f3cb3f88c290\">\n",
              "      <button class=\"colab-df-quickchart\" onclick=\"quickchart('df-4b387338-e923-4801-82e3-f3cb3f88c290')\"\n",
              "              title=\"Suggest charts.\"\n",
              "              style=\"display:none;\">\n",
              "\n",
              "<svg xmlns=\"http://www.w3.org/2000/svg\" height=\"24px\"viewBox=\"0 0 24 24\"\n",
              "     width=\"24px\">\n",
              "    <g>\n",
              "        <path d=\"M19 3H5c-1.1 0-2 .9-2 2v14c0 1.1.9 2 2 2h14c1.1 0 2-.9 2-2V5c0-1.1-.9-2-2-2zM9 17H7v-7h2v7zm4 0h-2V7h2v10zm4 0h-2v-4h2v4z\"/>\n",
              "    </g>\n",
              "</svg>\n",
              "      </button>\n",
              "    </div>\n",
              "\n",
              "<style>\n",
              "  .colab-df-quickchart {\n",
              "    background-color: #E8F0FE;\n",
              "    border: none;\n",
              "    border-radius: 50%;\n",
              "    cursor: pointer;\n",
              "    display: none;\n",
              "    fill: #1967D2;\n",
              "    height: 32px;\n",
              "    padding: 0 0 0 0;\n",
              "    width: 32px;\n",
              "  }\n",
              "\n",
              "  .colab-df-quickchart:hover {\n",
              "    background-color: #E2EBFA;\n",
              "    box-shadow: 0px 1px 2px rgba(60, 64, 67, 0.3), 0px 1px 3px 1px rgba(60, 64, 67, 0.15);\n",
              "    fill: #174EA6;\n",
              "  }\n",
              "\n",
              "  [theme=dark] .colab-df-quickchart {\n",
              "    background-color: #3B4455;\n",
              "    fill: #D2E3FC;\n",
              "  }\n",
              "\n",
              "  [theme=dark] .colab-df-quickchart:hover {\n",
              "    background-color: #434B5C;\n",
              "    box-shadow: 0px 1px 3px 1px rgba(0, 0, 0, 0.15);\n",
              "    filter: drop-shadow(0px 1px 2px rgba(0, 0, 0, 0.3));\n",
              "    fill: #FFFFFF;\n",
              "  }\n",
              "</style>\n",
              "\n",
              "    <script>\n",
              "      async function quickchart(key) {\n",
              "        const containerElement = document.querySelector('#' + key);\n",
              "        const charts = await google.colab.kernel.invokeFunction(\n",
              "            'suggestCharts', [key], {});\n",
              "      }\n",
              "    </script>\n",
              "\n",
              "      <script>\n",
              "\n",
              "function displayQuickchartButton(domScope) {\n",
              "  let quickchartButtonEl =\n",
              "    domScope.querySelector('#df-4b387338-e923-4801-82e3-f3cb3f88c290 button.colab-df-quickchart');\n",
              "  quickchartButtonEl.style.display =\n",
              "    google.colab.kernel.accessAllowed ? 'block' : 'none';\n",
              "}\n",
              "\n",
              "        displayQuickchartButton(document);\n",
              "      </script>\n",
              "      <style>\n",
              "    .colab-df-container {\n",
              "      display:flex;\n",
              "      flex-wrap:wrap;\n",
              "      gap: 12px;\n",
              "    }\n",
              "\n",
              "    .colab-df-convert {\n",
              "      background-color: #E8F0FE;\n",
              "      border: none;\n",
              "      border-radius: 50%;\n",
              "      cursor: pointer;\n",
              "      display: none;\n",
              "      fill: #1967D2;\n",
              "      height: 32px;\n",
              "      padding: 0 0 0 0;\n",
              "      width: 32px;\n",
              "    }\n",
              "\n",
              "    .colab-df-convert:hover {\n",
              "      background-color: #E2EBFA;\n",
              "      box-shadow: 0px 1px 2px rgba(60, 64, 67, 0.3), 0px 1px 3px 1px rgba(60, 64, 67, 0.15);\n",
              "      fill: #174EA6;\n",
              "    }\n",
              "\n",
              "    [theme=dark] .colab-df-convert {\n",
              "      background-color: #3B4455;\n",
              "      fill: #D2E3FC;\n",
              "    }\n",
              "\n",
              "    [theme=dark] .colab-df-convert:hover {\n",
              "      background-color: #434B5C;\n",
              "      box-shadow: 0px 1px 3px 1px rgba(0, 0, 0, 0.15);\n",
              "      filter: drop-shadow(0px 1px 2px rgba(0, 0, 0, 0.3));\n",
              "      fill: #FFFFFF;\n",
              "    }\n",
              "  </style>\n",
              "\n",
              "      <script>\n",
              "        const buttonEl =\n",
              "          document.querySelector('#df-86e307a0-8cbc-440d-8128-d7d9b57e6528 button.colab-df-convert');\n",
              "        buttonEl.style.display =\n",
              "          google.colab.kernel.accessAllowed ? 'block' : 'none';\n",
              "\n",
              "        async function convertToInteractive(key) {\n",
              "          const element = document.querySelector('#df-86e307a0-8cbc-440d-8128-d7d9b57e6528');\n",
              "          const dataTable =\n",
              "            await google.colab.kernel.invokeFunction('convertToInteractive',\n",
              "                                                     [key], {});\n",
              "          if (!dataTable) return;\n",
              "\n",
              "          const docLinkHtml = 'Like what you see? Visit the ' +\n",
              "            '<a target=\"_blank\" href=https://colab.research.google.com/notebooks/data_table.ipynb>data table notebook</a>'\n",
              "            + ' to learn more about interactive tables.';\n",
              "          element.innerHTML = '';\n",
              "          dataTable['output_type'] = 'display_data';\n",
              "          await google.colab.output.renderOutput(dataTable, element);\n",
              "          const docLink = document.createElement('div');\n",
              "          docLink.innerHTML = docLinkHtml;\n",
              "          element.appendChild(docLink);\n",
              "        }\n",
              "      </script>\n",
              "    </div>\n",
              "  </div>\n"
            ]
          },
          "metadata": {},
          "execution_count": 40
        }
      ]
    },
    {
      "cell_type": "code",
      "source": [
        "v = df[\"Pop\"][0]\n",
        "\n",
        "for i in range(104):\n",
        "  if df[\"Pop\"][i] == v:\n",
        "    df[\"Pop\"][i] = 1\n",
        "  else:\n",
        "    df[\"Pop\"][i] = 0"
      ],
      "metadata": {
        "colab": {
          "base_uri": "https://localhost:8080/"
        },
        "id": "SCkgn60_-faS",
        "outputId": "cb517244-1e2f-41e0-f148-09258498b8f1"
      },
      "execution_count": null,
      "outputs": [
        {
          "output_type": "stream",
          "name": "stderr",
          "text": [
            "<ipython-input-41-248ef5de93fd>:5: SettingWithCopyWarning: \n",
            "A value is trying to be set on a copy of a slice from a DataFrame\n",
            "\n",
            "See the caveats in the documentation: https://pandas.pydata.org/pandas-docs/stable/user_guide/indexing.html#returning-a-view-versus-a-copy\n",
            "  df[\"Pop\"][i] = 1\n",
            "<ipython-input-41-248ef5de93fd>:7: SettingWithCopyWarning: \n",
            "A value is trying to be set on a copy of a slice from a DataFrame\n",
            "\n",
            "See the caveats in the documentation: https://pandas.pydata.org/pandas-docs/stable/user_guide/indexing.html#returning-a-view-versus-a-copy\n",
            "  df[\"Pop\"][i] = 0\n"
          ]
        }
      ]
    },
    {
      "cell_type": "code",
      "source": [
        "s = df[\"sex\"][0]\n",
        "\n",
        "for i in range(104):\n",
        "  if df[\"sex\"][i] == s:\n",
        "    df[\"sex\"][i] = 1\n",
        "  else:\n",
        "    df[\"sex\"][i] = 0"
      ],
      "metadata": {
        "colab": {
          "base_uri": "https://localhost:8080/"
        },
        "id": "Zm0ZSZuVCLS0",
        "outputId": "ac503ad6-2e8e-4da2-f3fd-762c473adedd"
      },
      "execution_count": null,
      "outputs": [
        {
          "output_type": "stream",
          "name": "stderr",
          "text": [
            "<ipython-input-42-a7e76804f6dc>:5: SettingWithCopyWarning: \n",
            "A value is trying to be set on a copy of a slice from a DataFrame\n",
            "\n",
            "See the caveats in the documentation: https://pandas.pydata.org/pandas-docs/stable/user_guide/indexing.html#returning-a-view-versus-a-copy\n",
            "  df[\"sex\"][i] = 1\n",
            "<ipython-input-42-a7e76804f6dc>:7: SettingWithCopyWarning: \n",
            "A value is trying to be set on a copy of a slice from a DataFrame\n",
            "\n",
            "See the caveats in the documentation: https://pandas.pydata.org/pandas-docs/stable/user_guide/indexing.html#returning-a-view-versus-a-copy\n",
            "  df[\"sex\"][i] = 0\n"
          ]
        }
      ]
    },
    {
      "cell_type": "code",
      "source": [
        "df.info()"
      ],
      "metadata": {
        "colab": {
          "base_uri": "https://localhost:8080/"
        },
        "id": "RWPTYOU1Gg-l",
        "outputId": "b77e1930-9e41-4d26-8f72-da23ac4c621b"
      },
      "execution_count": null,
      "outputs": [
        {
          "output_type": "stream",
          "name": "stdout",
          "text": [
            "<class 'pandas.core.frame.DataFrame'>\n",
            "RangeIndex: 104 entries, 0 to 103\n",
            "Data columns (total 14 columns):\n",
            " #   Column    Non-Null Count  Dtype  \n",
            "---  ------    --------------  -----  \n",
            " 0   case      104 non-null    int64  \n",
            " 1   site      104 non-null    int64  \n",
            " 2   Pop       104 non-null    object \n",
            " 3   sex       104 non-null    object \n",
            " 4   age       102 non-null    float64\n",
            " 5   hdlngth   104 non-null    float64\n",
            " 6   skullw    104 non-null    float64\n",
            " 7   totlngth  104 non-null    float64\n",
            " 8   taill     104 non-null    float64\n",
            " 9   footlgth  103 non-null    float64\n",
            " 10  earconch  104 non-null    float64\n",
            " 11  eye       104 non-null    float64\n",
            " 12  chest     104 non-null    float64\n",
            " 13  belly     104 non-null    float64\n",
            "dtypes: float64(10), int64(2), object(2)\n",
            "memory usage: 11.5+ KB\n"
          ]
        }
      ]
    },
    {
      "cell_type": "code",
      "source": [
        "df_nans_dropped = df.dropna()\n",
        "\n",
        "print(df_nans_dropped.shape)\n",
        "df_nans_dropped.info()"
      ],
      "metadata": {
        "colab": {
          "base_uri": "https://localhost:8080/"
        },
        "id": "HHE70uWzGmjW",
        "outputId": "b605bc94-cda5-49ed-cf1b-c4c7077c0872"
      },
      "execution_count": null,
      "outputs": [
        {
          "output_type": "stream",
          "name": "stdout",
          "text": [
            "(101, 14)\n",
            "<class 'pandas.core.frame.DataFrame'>\n",
            "Int64Index: 101 entries, 0 to 103\n",
            "Data columns (total 14 columns):\n",
            " #   Column    Non-Null Count  Dtype  \n",
            "---  ------    --------------  -----  \n",
            " 0   case      101 non-null    int64  \n",
            " 1   site      101 non-null    int64  \n",
            " 2   Pop       101 non-null    object \n",
            " 3   sex       101 non-null    object \n",
            " 4   age       101 non-null    float64\n",
            " 5   hdlngth   101 non-null    float64\n",
            " 6   skullw    101 non-null    float64\n",
            " 7   totlngth  101 non-null    float64\n",
            " 8   taill     101 non-null    float64\n",
            " 9   footlgth  101 non-null    float64\n",
            " 10  earconch  101 non-null    float64\n",
            " 11  eye       101 non-null    float64\n",
            " 12  chest     101 non-null    float64\n",
            " 13  belly     101 non-null    float64\n",
            "dtypes: float64(10), int64(2), object(2)\n",
            "memory usage: 11.8+ KB\n"
          ]
        }
      ]
    },
    {
      "cell_type": "code",
      "source": [
        "df_x = df_nans_dropped.drop(labels=[\"case\", \"sex\"], axis=1)\n",
        "df_y = df_nans_dropped[[\"sex\"]].copy()\n",
        "\n",
        "print(df_x.shape, df_y.shape)"
      ],
      "metadata": {
        "colab": {
          "base_uri": "https://localhost:8080/"
        },
        "id": "YHj5cq43x8iz",
        "outputId": "edf98375-1e69-4e8f-fe5d-525d0b240e34"
      },
      "execution_count": null,
      "outputs": [
        {
          "output_type": "stream",
          "name": "stdout",
          "text": [
            "(101, 12) (101, 1)\n"
          ]
        }
      ]
    },
    {
      "cell_type": "code",
      "source": [
        "from sklearn.preprocessing import StandardScaler\n",
        "\n",
        "scaler = StandardScaler()\n",
        "\n",
        "x_nrm = scaler.fit_transform(df_x)"
      ],
      "metadata": {
        "id": "JpIMa-QoycmP"
      },
      "execution_count": null,
      "outputs": []
    },
    {
      "cell_type": "code",
      "source": [
        "from sklearn.model_selection import train_test_split\n",
        "\n",
        "x_train, x_test, y_train, y_test = train_test_split(x_nrm, df_y.values.reshape((-1, )), train_size=0.8)\n",
        "\n",
        "print(x_train.shape, x_test.shape, y_train.shape, y_test.shape)"
      ],
      "metadata": {
        "colab": {
          "base_uri": "https://localhost:8080/"
        },
        "id": "YGyKHO8e6K1G",
        "outputId": "1fdf629b-d9f1-4f06-8c5a-d2f39e3ab5df"
      },
      "execution_count": null,
      "outputs": [
        {
          "output_type": "stream",
          "name": "stdout",
          "text": [
            "(80, 12) (21, 12) (80,) (21,)\n"
          ]
        }
      ]
    },
    {
      "cell_type": "code",
      "source": [
        "x_train = np.asarray(x_train).astype(np.float32)\n",
        "y_train = np.asarray(y_train).astype(np.float32)\n",
        "x_test = np.asarray(x_test).astype(np.float32)\n",
        "y_test = np.asarray(y_test).astype(np.float32)"
      ],
      "metadata": {
        "id": "QXHhIKl7Sj5l"
      },
      "execution_count": null,
      "outputs": []
    },
    {
      "cell_type": "code",
      "source": [
        "from keras.models import Sequential\n",
        "from keras.layers import Dense\n",
        "\n",
        "model = Sequential()\n",
        "\n",
        "model.add(Dense(32, activation='relu', input_shape=x_train.shape[1:]))\n",
        "\n",
        "model.add(Dense(8, activation='relu'))\n",
        "\n",
        "model.add(Dense(1, 'sigmoid'))\n"
      ],
      "metadata": {
        "id": "TnfVlxcIzZrB"
      },
      "execution_count": null,
      "outputs": []
    },
    {
      "cell_type": "code",
      "source": [
        "model.compile(optimizer='adam', loss='binary_crossentropy')"
      ],
      "metadata": {
        "id": "m95kAJ3Y57rm"
      },
      "execution_count": null,
      "outputs": []
    },
    {
      "cell_type": "code",
      "source": [
        " model.summary()"
      ],
      "metadata": {
        "colab": {
          "base_uri": "https://localhost:8080/"
        },
        "id": "nIG-YwkLPxqF",
        "outputId": "9b0b0e52-a529-4922-de9c-fa7f44e39fa6"
      },
      "execution_count": null,
      "outputs": [
        {
          "output_type": "stream",
          "name": "stdout",
          "text": [
            "Model: \"sequential_3\"\n",
            "_________________________________________________________________\n",
            " Layer (type)                Output Shape              Param #   \n",
            "=================================================================\n",
            " dense_9 (Dense)             (None, 32)                416       \n",
            "                                                                 \n",
            " dense_10 (Dense)            (None, 8)                 264       \n",
            "                                                                 \n",
            " dense_11 (Dense)            (None, 1)                 9         \n",
            "                                                                 \n",
            "=================================================================\n",
            "Total params: 689\n",
            "Trainable params: 689\n",
            "Non-trainable params: 0\n",
            "_________________________________________________________________\n"
          ]
        }
      ]
    },
    {
      "cell_type": "code",
      "source": [
        "results = model.fit(x_train, y_train, epochs=32, validation_data=(x_test, y_test))"
      ],
      "metadata": {
        "colab": {
          "base_uri": "https://localhost:8080/"
        },
        "id": "UHwTo44liU6q",
        "outputId": "57cfc716-eade-4720-d1ce-337a57b89883"
      },
      "execution_count": null,
      "outputs": [
        {
          "output_type": "stream",
          "name": "stdout",
          "text": [
            "Epoch 1/32\n",
            "3/3 [==============================] - 1s 123ms/step - loss: 0.6733 - val_loss: 0.6767\n",
            "Epoch 2/32\n",
            "3/3 [==============================] - 0s 24ms/step - loss: 0.6630 - val_loss: 0.6747\n",
            "Epoch 3/32\n",
            "3/3 [==============================] - 0s 17ms/step - loss: 0.6536 - val_loss: 0.6739\n",
            "Epoch 4/32\n",
            "3/3 [==============================] - 0s 19ms/step - loss: 0.6450 - val_loss: 0.6721\n",
            "Epoch 5/32\n",
            "3/3 [==============================] - 0s 19ms/step - loss: 0.6373 - val_loss: 0.6706\n",
            "Epoch 6/32\n",
            "3/3 [==============================] - 0s 18ms/step - loss: 0.6294 - val_loss: 0.6702\n",
            "Epoch 7/32\n",
            "3/3 [==============================] - 0s 19ms/step - loss: 0.6218 - val_loss: 0.6698\n",
            "Epoch 8/32\n",
            "3/3 [==============================] - 0s 19ms/step - loss: 0.6138 - val_loss: 0.6702\n",
            "Epoch 9/32\n",
            "3/3 [==============================] - 0s 22ms/step - loss: 0.6058 - val_loss: 0.6715\n",
            "Epoch 10/32\n",
            "3/3 [==============================] - 0s 21ms/step - loss: 0.5980 - val_loss: 0.6731\n",
            "Epoch 11/32\n",
            "3/3 [==============================] - 0s 22ms/step - loss: 0.5912 - val_loss: 0.6750\n",
            "Epoch 12/32\n",
            "3/3 [==============================] - 0s 20ms/step - loss: 0.5847 - val_loss: 0.6767\n",
            "Epoch 13/32\n",
            "3/3 [==============================] - 0s 18ms/step - loss: 0.5785 - val_loss: 0.6784\n",
            "Epoch 14/32\n",
            "3/3 [==============================] - 0s 18ms/step - loss: 0.5717 - val_loss: 0.6789\n",
            "Epoch 15/32\n",
            "3/3 [==============================] - 0s 19ms/step - loss: 0.5667 - val_loss: 0.6793\n",
            "Epoch 16/32\n",
            "3/3 [==============================] - 0s 27ms/step - loss: 0.5604 - val_loss: 0.6795\n",
            "Epoch 17/32\n",
            "3/3 [==============================] - 0s 19ms/step - loss: 0.5555 - val_loss: 0.6804\n",
            "Epoch 18/32\n",
            "3/3 [==============================] - 0s 19ms/step - loss: 0.5497 - val_loss: 0.6811\n",
            "Epoch 19/32\n",
            "3/3 [==============================] - 0s 18ms/step - loss: 0.5444 - val_loss: 0.6819\n",
            "Epoch 20/32\n",
            "3/3 [==============================] - 0s 18ms/step - loss: 0.5388 - val_loss: 0.6830\n",
            "Epoch 21/32\n",
            "3/3 [==============================] - 0s 23ms/step - loss: 0.5335 - val_loss: 0.6839\n",
            "Epoch 22/32\n",
            "3/3 [==============================] - 0s 18ms/step - loss: 0.5288 - val_loss: 0.6846\n",
            "Epoch 23/32\n",
            "3/3 [==============================] - 0s 19ms/step - loss: 0.5231 - val_loss: 0.6853\n",
            "Epoch 24/32\n",
            "3/3 [==============================] - 0s 19ms/step - loss: 0.5183 - val_loss: 0.6858\n",
            "Epoch 25/32\n",
            "3/3 [==============================] - 0s 17ms/step - loss: 0.5138 - val_loss: 0.6856\n",
            "Epoch 26/32\n",
            "3/3 [==============================] - 0s 19ms/step - loss: 0.5086 - val_loss: 0.6860\n",
            "Epoch 27/32\n",
            "3/3 [==============================] - 0s 19ms/step - loss: 0.5041 - val_loss: 0.6873\n",
            "Epoch 28/32\n",
            "3/3 [==============================] - 0s 18ms/step - loss: 0.4993 - val_loss: 0.6886\n",
            "Epoch 29/32\n",
            "3/3 [==============================] - 0s 19ms/step - loss: 0.4947 - val_loss: 0.6894\n",
            "Epoch 30/32\n",
            "3/3 [==============================] - 0s 20ms/step - loss: 0.4903 - val_loss: 0.6904\n",
            "Epoch 31/32\n",
            "3/3 [==============================] - 0s 19ms/step - loss: 0.4860 - val_loss: 0.6918\n",
            "Epoch 32/32\n",
            "3/3 [==============================] - 0s 24ms/step - loss: 0.4814 - val_loss: 0.6943\n"
          ]
        }
      ]
    },
    {
      "cell_type": "code",
      "source": [
        "yhat_test = model.predict(x_test).round()"
      ],
      "metadata": {
        "colab": {
          "base_uri": "https://localhost:8080/"
        },
        "id": "f-nbRq85oKze",
        "outputId": "fd35069e-a2e7-4c45-d8f8-db8d094ea4f4"
      },
      "execution_count": null,
      "outputs": [
        {
          "output_type": "stream",
          "name": "stdout",
          "text": [
            "1/1 [==============================] - 0s 96ms/step\n"
          ]
        }
      ]
    },
    {
      "cell_type": "code",
      "source": [
        "plt.plot(results.history[\"loss\"], label=\"loss\")\n",
        "plt.plot(results.history[\"val_loss\"], label=\"val_loss\")\n",
        "\n",
        "plt.legend()"
      ],
      "metadata": {
        "colab": {
          "base_uri": "https://localhost:8080/",
          "height": 448
        },
        "id": "ob6PFlNbDsNn",
        "outputId": "279dba9e-caaf-47b6-a4d4-303e7471593c"
      },
      "execution_count": null,
      "outputs": [
        {
          "output_type": "execute_result",
          "data": {
            "text/plain": [
              "<matplotlib.legend.Legend at 0x7dda9f7bc130>"
            ]
          },
          "metadata": {},
          "execution_count": 59
        },
        {
          "output_type": "display_data",
          "data": {
            "text/plain": [
              "<Figure size 640x480 with 1 Axes>"
            ],
            "image/png": "[encoded data removed]"
          },
          "metadata": {}
        }
      ]
    },
    {
      "cell_type": "code",
      "source": [
        "model1 = Sequential()\n",
        "\n",
        "model1.add(Dense(64, activation='relu', input_shape=x_train.shape[1:]))\n",
        "\n",
        "model1.add(Dense(16, activation='relu'))\n",
        "\n",
        "model1.add(Dense(1, 'sigmoid'))"
      ],
      "metadata": {
        "id": "LiOtu-tKS-MJ"
      },
      "execution_count": null,
      "outputs": []
    },
    {
      "cell_type": "code",
      "source": [
        "model1.compile(optimizer='adam', loss='binary_crossentropy')"
      ],
      "metadata": {
        "id": "sqaqnDnpTE1r"
      },
      "execution_count": null,
      "outputs": []
    },
    {
      "cell_type": "code",
      "source": [
        " model1.summary()"
      ],
      "metadata": {
        "colab": {
          "base_uri": "https://localhost:8080/"
        },
        "id": "zAgBhEETTHgO",
        "outputId": "42919617-200c-49e4-be45-e42cd04f2e31"
      },
      "execution_count": null,
      "outputs": [
        {
          "output_type": "stream",
          "name": "stdout",
          "text": [
            "Model: \"sequential_4\"\n",
            "_________________________________________________________________\n",
            " Layer (type)                Output Shape              Param #   \n",
            "=================================================================\n",
            " dense_12 (Dense)            (None, 64)                832       \n",
            "                                                                 \n",
            " dense_13 (Dense)            (None, 16)                1040      \n",
            "                                                                 \n",
            " dense_14 (Dense)            (None, 1)                 17        \n",
            "                                                                 \n",
            "=================================================================\n",
            "Total params: 1,889\n",
            "Trainable params: 1,889\n",
            "Non-trainable params: 0\n",
            "_________________________________________________________________\n"
          ]
        }
      ]
    },
    {
      "cell_type": "code",
      "source": [
        "results1 = model1.fit(x_train, y_train, epochs=32, validation_data=(x_test, y_test))"
      ],
      "metadata": {
        "colab": {
          "base_uri": "https://localhost:8080/"
        },
        "id": "Vt29sCEmTJ8B",
        "outputId": "8bcd7941-b76c-4d7f-a1e5-5f41c85641b2"
      },
      "execution_count": null,
      "outputs": [
        {
          "output_type": "stream",
          "name": "stdout",
          "text": [
            "Epoch 1/32\n",
            "3/3 [==============================] - 1s 88ms/step - loss: 0.6595 - val_loss: 0.6420\n",
            "Epoch 2/32\n",
            "3/3 [==============================] - 0s 17ms/step - loss: 0.6353 - val_loss: 0.6523\n",
            "Epoch 3/32\n",
            "3/3 [==============================] - 0s 23ms/step - loss: 0.6213 - val_loss: 0.6658\n",
            "Epoch 4/32\n",
            "3/3 [==============================] - 0s 18ms/step - loss: 0.6073 - val_loss: 0.6794\n",
            "Epoch 5/32\n",
            "3/3 [==============================] - 0s 18ms/step - loss: 0.5956 - val_loss: 0.6907\n",
            "Epoch 6/32\n",
            "3/3 [==============================] - 0s 17ms/step - loss: 0.5849 - val_loss: 0.7002\n",
            "Epoch 7/32\n",
            "3/3 [==============================] - 0s 18ms/step - loss: 0.5757 - val_loss: 0.7053\n",
            "Epoch 8/32\n",
            "3/3 [==============================] - 0s 18ms/step - loss: 0.5667 - val_loss: 0.7074\n",
            "Epoch 9/32\n",
            "3/3 [==============================] - 0s 21ms/step - loss: 0.5577 - val_loss: 0.7090\n",
            "Epoch 10/32\n",
            "3/3 [==============================] - 0s 17ms/step - loss: 0.5490 - val_loss: 0.7094\n",
            "Epoch 11/32\n",
            "3/3 [==============================] - 0s 18ms/step - loss: 0.5410 - val_loss: 0.7057\n",
            "Epoch 12/32\n",
            "3/3 [==============================] - 0s 17ms/step - loss: 0.5322 - val_loss: 0.7020\n",
            "Epoch 13/32\n",
            "3/3 [==============================] - 0s 20ms/step - loss: 0.5253 - val_loss: 0.6970\n",
            "Epoch 14/32\n",
            "3/3 [==============================] - 0s 18ms/step - loss: 0.5172 - val_loss: 0.6964\n",
            "Epoch 15/32\n",
            "3/3 [==============================] - 0s 17ms/step - loss: 0.5104 - val_loss: 0.6961\n",
            "Epoch 16/32\n",
            "3/3 [==============================] - 0s 17ms/step - loss: 0.5030 - val_loss: 0.6952\n",
            "Epoch 17/32\n",
            "3/3 [==============================] - 0s 18ms/step - loss: 0.4969 - val_loss: 0.6953\n",
            "Epoch 18/32\n",
            "3/3 [==============================] - 0s 18ms/step - loss: 0.4906 - val_loss: 0.6951\n",
            "Epoch 19/32\n",
            "3/3 [==============================] - 0s 17ms/step - loss: 0.4840 - val_loss: 0.6972\n",
            "Epoch 20/32\n",
            "3/3 [==============================] - 0s 22ms/step - loss: 0.4776 - val_loss: 0.7028\n",
            "Epoch 21/32\n",
            "3/3 [==============================] - 0s 16ms/step - loss: 0.4714 - val_loss: 0.7087\n",
            "Epoch 22/32\n",
            "3/3 [==============================] - 0s 20ms/step - loss: 0.4652 - val_loss: 0.7187\n",
            "Epoch 23/32\n",
            "3/3 [==============================] - 0s 26ms/step - loss: 0.4589 - val_loss: 0.7238\n",
            "Epoch 24/32\n",
            "3/3 [==============================] - 0s 20ms/step - loss: 0.4528 - val_loss: 0.7306\n",
            "Epoch 25/32\n",
            "3/3 [==============================] - 0s 18ms/step - loss: 0.4468 - val_loss: 0.7361\n",
            "Epoch 26/32\n",
            "3/3 [==============================] - 0s 18ms/step - loss: 0.4416 - val_loss: 0.7415\n",
            "Epoch 27/32\n",
            "3/3 [==============================] - 0s 17ms/step - loss: 0.4355 - val_loss: 0.7403\n",
            "Epoch 28/32\n",
            "3/3 [==============================] - 0s 18ms/step - loss: 0.4296 - val_loss: 0.7383\n",
            "Epoch 29/32\n",
            "3/3 [==============================] - 0s 18ms/step - loss: 0.4235 - val_loss: 0.7398\n",
            "Epoch 30/32\n",
            "3/3 [==============================] - 0s 21ms/step - loss: 0.4181 - val_loss: 0.7397\n",
            "Epoch 31/32\n",
            "3/3 [==============================] - 0s 17ms/step - loss: 0.4118 - val_loss: 0.7384\n",
            "Epoch 32/32\n",
            "3/3 [==============================] - 0s 17ms/step - loss: 0.4061 - val_loss: 0.7416\n"
          ]
        }
      ]
    },
    {
      "cell_type": "code",
      "source": [
        "yhat_test1 = model1.predict(x_test).round()"
      ],
      "metadata": {
        "colab": {
          "base_uri": "https://localhost:8080/"
        },
        "id": "EJnHqAAkTNPl",
        "outputId": "aa6f55b5-e541-467d-a4d0-4570c8d6ea28"
      },
      "execution_count": null,
      "outputs": [
        {
          "output_type": "stream",
          "name": "stdout",
          "text": [
            "1/1 [==============================] - 0s 165ms/step\n"
          ]
        }
      ]
    },
    {
      "cell_type": "code",
      "source": [
        "plt.plot(results1.history[\"loss\"], label=\"loss\")\n",
        "plt.plot(results1.history[\"val_loss\"], label=\"val_loss\")\n",
        "\n",
        "plt.legend()"
      ],
      "metadata": {
        "colab": {
          "base_uri": "https://localhost:8080/",
          "height": 448
        },
        "id": "LrgQ6J9tTRZY",
        "outputId": "6f9d618c-11a8-4549-bcb1-024bd79da360"
      },
      "execution_count": null,
      "outputs": [
        {
          "output_type": "execute_result",
          "data": {
            "text/plain": [
              "<matplotlib.legend.Legend at 0x7ddaac9c2170>"
            ]
          },
          "metadata": {},
          "execution_count": 67
        },
        {
          "output_type": "display_data",
          "data": {
            "text/plain": [
              "<Figure size 640x480 with 1 Axes>"
            ],
            "image/png": "[encoded data removed]"
          },
          "metadata": {}
        }
      ]
    },
    {
      "cell_type": "code",
      "source": [
        "model2 = Sequential()\n",
        "\n",
        "model2.add(Dense(64, activation='tanh', input_shape=x_train.shape[1:]))\n",
        "\n",
        "model2.add(Dense(32, activation='relu'))\n",
        "\n",
        "model2.add(Dense(16, activation='relu'))\n",
        "\n",
        "model2.add(Dense(1, 'sigmoid'))"
      ],
      "metadata": {
        "id": "DRiV84eATUAl"
      },
      "execution_count": null,
      "outputs": []
    },
    {
      "cell_type": "code",
      "source": [
        "model2.compile(optimizer='adam', loss='binary_crossentropy')"
      ],
      "metadata": {
        "id": "AGGiYyVETjc8"
      },
      "execution_count": null,
      "outputs": []
    },
    {
      "cell_type": "code",
      "source": [
        " model2.summary()"
      ],
      "metadata": {
        "colab": {
          "base_uri": "https://localhost:8080/"
        },
        "id": "wBWGTCELTlzS",
        "outputId": "6807e608-c37a-44cb-850e-f890c2f77236"
      },
      "execution_count": null,
      "outputs": [
        {
          "output_type": "stream",
          "name": "stdout",
          "text": [
            "Model: \"sequential_5\"\n",
            "_________________________________________________________________\n",
            " Layer (type)                Output Shape              Param #   \n",
            "=================================================================\n",
            " dense_15 (Dense)            (None, 64)                832       \n",
            "                                                                 \n",
            " dense_16 (Dense)            (None, 32)                2080      \n",
            "                                                                 \n",
            " dense_17 (Dense)            (None, 16)                528       \n",
            "                                                                 \n",
            " dense_18 (Dense)            (None, 1)                 17        \n",
            "                                                                 \n",
            "=================================================================\n",
            "Total params: 3,457\n",
            "Trainable params: 3,457\n",
            "Non-trainable params: 0\n",
            "_________________________________________________________________\n"
          ]
        }
      ]
    },
    {
      "cell_type": "code",
      "source": [
        "results2 = model1.fit(x_train, y_train, epochs=32, validation_data=(x_test, y_test))"
      ],
      "metadata": {
        "colab": {
          "base_uri": "https://localhost:8080/"
        },
        "id": "KggJ_VP_ToU6",
        "outputId": "129170e6-fe38-45a6-b7b6-130c35f9dead"
      },
      "execution_count": null,
      "outputs": [
        {
          "output_type": "stream",
          "name": "stdout",
          "text": [
            "Epoch 1/32\n",
            "3/3 [==============================] - 0s 49ms/step - loss: 0.4001 - val_loss: 0.7434\n",
            "Epoch 2/32\n",
            "3/3 [==============================] - 0s 21ms/step - loss: 0.3950 - val_loss: 0.7434\n",
            "Epoch 3/32\n",
            "3/3 [==============================] - 0s 19ms/step - loss: 0.3896 - val_loss: 0.7454\n",
            "Epoch 4/32\n",
            "3/3 [==============================] - 0s 18ms/step - loss: 0.3846 - val_loss: 0.7484\n",
            "Epoch 5/32\n",
            "3/3 [==============================] - 0s 19ms/step - loss: 0.3789 - val_loss: 0.7563\n",
            "Epoch 6/32\n",
            "3/3 [==============================] - 0s 18ms/step - loss: 0.3747 - val_loss: 0.7642\n",
            "Epoch 7/32\n",
            "3/3 [==============================] - 0s 19ms/step - loss: 0.3686 - val_loss: 0.7643\n",
            "Epoch 8/32\n",
            "3/3 [==============================] - 0s 17ms/step - loss: 0.3639 - val_loss: 0.7676\n",
            "Epoch 9/32\n",
            "3/3 [==============================] - 0s 17ms/step - loss: 0.3591 - val_loss: 0.7706\n",
            "Epoch 10/32\n",
            "3/3 [==============================] - 0s 18ms/step - loss: 0.3549 - val_loss: 0.7744\n",
            "Epoch 11/32\n",
            "3/3 [==============================] - 0s 17ms/step - loss: 0.3502 - val_loss: 0.7872\n",
            "Epoch 12/32\n",
            "3/3 [==============================] - 0s 17ms/step - loss: 0.3451 - val_loss: 0.7976\n",
            "Epoch 13/32\n",
            "3/3 [==============================] - 0s 19ms/step - loss: 0.3403 - val_loss: 0.8059\n",
            "Epoch 14/32\n",
            "3/3 [==============================] - 0s 16ms/step - loss: 0.3365 - val_loss: 0.8147\n",
            "Epoch 15/32\n",
            "3/3 [==============================] - 0s 18ms/step - loss: 0.3316 - val_loss: 0.8214\n",
            "Epoch 16/32\n",
            "3/3 [==============================] - 0s 26ms/step - loss: 0.3281 - val_loss: 0.8275\n",
            "Epoch 17/32\n",
            "3/3 [==============================] - 0s 20ms/step - loss: 0.3236 - val_loss: 0.8306\n",
            "Epoch 18/32\n",
            "3/3 [==============================] - 0s 17ms/step - loss: 0.3192 - val_loss: 0.8374\n",
            "Epoch 19/32\n",
            "3/3 [==============================] - 0s 17ms/step - loss: 0.3153 - val_loss: 0.8424\n",
            "Epoch 20/32\n",
            "3/3 [==============================] - 0s 17ms/step - loss: 0.3104 - val_loss: 0.8453\n",
            "Epoch 21/32\n",
            "3/3 [==============================] - 0s 18ms/step - loss: 0.3064 - val_loss: 0.8495\n",
            "Epoch 22/32\n",
            "3/3 [==============================] - 0s 21ms/step - loss: 0.3017 - val_loss: 0.8501\n",
            "Epoch 23/32\n",
            "3/3 [==============================] - 0s 18ms/step - loss: 0.2974 - val_loss: 0.8485\n",
            "Epoch 24/32\n",
            "3/3 [==============================] - 0s 18ms/step - loss: 0.2934 - val_loss: 0.8515\n",
            "Epoch 25/32\n",
            "3/3 [==============================] - 0s 18ms/step - loss: 0.2896 - val_loss: 0.8536\n",
            "Epoch 26/32\n",
            "3/3 [==============================] - 0s 22ms/step - loss: 0.2856 - val_loss: 0.8587\n",
            "Epoch 27/32\n",
            "3/3 [==============================] - 0s 18ms/step - loss: 0.2812 - val_loss: 0.8667\n",
            "Epoch 28/32\n",
            "3/3 [==============================] - 0s 18ms/step - loss: 0.2772 - val_loss: 0.8739\n",
            "Epoch 29/32\n",
            "3/3 [==============================] - 0s 17ms/step - loss: 0.2733 - val_loss: 0.8762\n",
            "Epoch 30/32\n",
            "3/3 [==============================] - 0s 17ms/step - loss: 0.2695 - val_loss: 0.8815\n",
            "Epoch 31/32\n",
            "3/3 [==============================] - 0s 19ms/step - loss: 0.2653 - val_loss: 0.8820\n",
            "Epoch 32/32\n",
            "3/3 [==============================] - 0s 18ms/step - loss: 0.2610 - val_loss: 0.8835\n"
          ]
        }
      ]
    },
    {
      "cell_type": "code",
      "source": [
        "yhat_test2 = model1.predict(x_test).round()"
      ],
      "metadata": {
        "colab": {
          "base_uri": "https://localhost:8080/"
        },
        "id": "Tkf-pGctTrSC",
        "outputId": "1f568982-0bed-468e-de9c-51ab172872e9"
      },
      "execution_count": null,
      "outputs": [
        {
          "output_type": "stream",
          "name": "stdout",
          "text": [
            "1/1 [==============================] - 0s 116ms/step\n"
          ]
        }
      ]
    },
    {
      "cell_type": "code",
      "source": [
        "plt.plot(results2.history[\"loss\"], label=\"loss\")\n",
        "plt.plot(results2.history[\"val_loss\"], label=\"val_loss\")\n",
        "\n",
        "plt.legend()"
      ],
      "metadata": {
        "colab": {
          "base_uri": "https://localhost:8080/",
          "height": 448
        },
        "id": "3J0Ed3W_Tuom",
        "outputId": "923ee2fc-55f1-488b-a05c-9a3bd9da2e8f"
      },
      "execution_count": null,
      "outputs": [
        {
          "output_type": "execute_result",
          "data": {
            "text/plain": [
              "<matplotlib.legend.Legend at 0x7ddaac820790>"
            ]
          },
          "metadata": {},
          "execution_count": 73
        },
        {
          "output_type": "display_data",
          "data": {
            "text/plain": [
              "<Figure size 640x480 with 1 Axes>"
            ],
            "image/png": "[encoded data removed]"
          },
          "metadata": {}
        }
      ]
    }
  ]
}